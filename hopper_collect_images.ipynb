{
 "cells": [
  {
   "cell_type": "code",
   "execution_count": 1,
   "metadata": {
    "collapsed": true
   },
   "outputs": [],
   "source": [
    "#get hopper's images from wikiart\n",
    "from lxml import html\n",
    "from bs4 import BeautifulSoup\n",
    "import csv\n",
    "import requests\n",
    "page = requests.get('https://www.wikiart.org/en/edward-hopper/all-works/text-list')\n",
    "page_data = BeautifulSoup(page.text,\"lxml\")\n",
    "#print(page_data)\n",
    "\n",
    "names = page_data.find_all(\"li\",attrs={\"class\":\"painting-list-text-row\"})\n",
    "names_list=[]\n",
    "name_list=[]\n",
    "year_list=[]\n",
    "for h in names:\n",
    "  \n",
    "                name_list.append(h.find(\"a\").contents[0])\n",
    "                names_list.append(h.find(\"a\").contents[0].lower().replace(\" \", \"-\").replace(\",\",\"-\").replace(\"\\xa0\",\"-\").replace('(',\"\").replace(\")\",\"\").replace(\".\",\"\").replace(\"'\",\"-\").replace(\"`\",\"-\").replace(\";\",\"\").replace(\"?\",\"\").replace(\"’\",\"-\"))\n",
    "                year_list.append(h.find(\"span\").contents[0].replace(\",\",\"\").replace(\" \",\"\")) "
   ]
  },
  {
   "cell_type": "markdown",
   "metadata": {},
   "source": [
    "# Clean artworks' names' format to match with the website url"
   ]
  },
  {
   "cell_type": "code",
   "execution_count": 2,
   "metadata": {
    "collapsed": true
   },
   "outputs": [],
   "source": [
    "for i in range(len(names_list)):\n",
    "    names_list[i]=names_list[i].replace(\"---\",\"-\")"
   ]
  },
  {
   "cell_type": "code",
   "execution_count": 3,
   "metadata": {
    "collapsed": true
   },
   "outputs": [],
   "source": [
    "for i in range(len(names_list)):\n",
    "    names_list[i]=names_list[i].replace(\"--\",\"-\")"
   ]
  },
  {
   "cell_type": "code",
   "execution_count": 4,
   "metadata": {
    "collapsed": true
   },
   "outputs": [],
   "source": [
    "for i in range(len(names_list)):\n",
    "    if names_list[i][-1]==\"-\":\n",
    "         names_list[i][-1].replace(\"-\",\"\")"
   ]
  },
  {
   "cell_type": "code",
   "execution_count": 5,
   "metadata": {},
   "outputs": [
    {
     "name": "stdout",
     "output_type": "stream",
     "text": [
      "steps-in-paris-1906\n",
      "railroad-train-1908\n",
      "bridge-on-the-seine-1909\n",
      "le-pont-royal-1909\n",
      "read-pavillon-de-flore-1909\n",
      "the-quai-des-grands-augustins-1909\n",
      "sailing-1911\n",
      "cove-at-ogunquitwhitney-1439-576x475-1914\n",
      "night-on-the-el-train-1918\n",
      "prizewinning-world-war-i-patriotic-poster-1919\n",
      "bluff-1916-19-1919\n",
      "les-deux-pigeons-1920\n",
      "train-and-bathers-1920\n",
      "evening-wind-1921\n",
      "night-shadows-1921\n",
      "house-tops-1921\n",
      "new-york-restaurant-1922\n",
      "the-cat-boat-1922\n",
      "the-railroad-1922\n",
      "new-york-restaurant-1922\n",
      "new-york-pavements--1924\n",
      "funell-of-trawler-1924\n",
      "eleven-am-1926\n",
      "coast-guard-station-two-lights-maine-1927\n",
      "lighthouse-hill-1927\n",
      "house-of-the-foghorn-i-1927\n",
      "manhattan-bridge-loop-1928\n",
      "from-williamsburg-bridge-1928\n",
      "lighthouse-at-two-lights-1929\n",
      "barn-and-silo-vermont-1929\n",
      "folly-beach-charleston-south-carolina-1929\n",
      "cobbs-barns-and-distant-houses-1930\n",
      "room-in-brooklyn-1932\n",
      "ryders-house-1933\n",
      "five-am-1937\n",
      "white-river-at-sharon-1937\n",
      "cape-cod-evening-1939\n",
      "new-york-movie-1939\n",
      "room-in-new-york-1940\n",
      "girlie-show-1941\n",
      "saltillo-mansion-1943\n",
      "august-in-the-city-1945\n",
      "church-of-san-esteban-1946\n",
      "seven-am-1948\n",
      "high-noon-1949\n",
      "summer-in-the-city-1950\n",
      "first-row-orchestra-1951\n",
      "office-in-a-small-city-1953\n",
      "excursion-into-philosophy-1959\n",
      "two-comedians-1965\n",
      "rocks-?\n",
      "rocky-shore-?\n",
      "d26b76c273df42c0024e1075578466db-landscape-art-landscape-paintings-?\n",
      "rocky-shore-and-sea-?\n",
      "rocks-?\n",
      "rocksshore-?\n"
     ]
    }
   ],
   "source": [
    "for i in range(len(names_list)):\n",
    "        title=\"hopper_img/{}.jpg\".format(names_list[i])\n",
    "        url= \"https://uploads0.wikiart.org/images/edward-hopper/{}.jpg!Large.jpg\".format(names_list[i])\n",
    "        im=requests.get(url,stream = True)\n",
    "        if im.status_code != 404:\n",
    "            f = open(title, 'wb')\n",
    "            f.write(im.content)\n",
    "            f.close()\n",
    "        else:\n",
    "            namess=names_list[i]+\"-\"+year_list[i]\n",
    "            url2= \"https://uploads0.wikiart.org/images/edward-hopper/{}.jpg!Large.jpg\".format(namess)\n",
    "            im2=requests.get(url2,stream = True)\n",
    "            if im2.status_code != 404:\n",
    "                    f = open(title, 'wb')\n",
    "                    f.write(im2.content)\n",
    "                    f.close()\n",
    "            else:\n",
    "                    namesss=names_list[i]+\"-\"+\"(1)\"\n",
    "                    url3= \"https://uploads0.wikiart.org/images/edward-hopper/{}.jpg!Large.jpg\".format(namesss)\n",
    "                    im3=requests.get(url3,stream = True)\n",
    "                    if im3.status_code != 404:\n",
    "                        f = open(title, 'wb')\n",
    "                        f.write(im3.content)\n",
    "                        f.close()\n",
    "                    else:    \n",
    "                        namessss=names_list[i]+\"-\"+year_list[i]+\"(1)\"\n",
    "                        url4= \"https://uploads0.wikiart.org/images/edward-hopper/{}.jpg!Large.jpg\".format(namessss)\n",
    "                        im4=requests.get(url4,stream = True)\n",
    "                        if im4.status_code != 404:\n",
    "                            f = open(title, 'wb')\n",
    "                            f.write(im4.content)\n",
    "                            f.close()\n",
    "                        else: \n",
    "                            url5= \"https://uploads0.wikiart.org/images/edward-hopper{}.jpg\".format(names_list[i])\n",
    "                            im5=requests.get(url5,stream = True)\n",
    "                            if im5.status_code != 404:\n",
    "                                f = open(title, 'wb')\n",
    "                                f.write(im5.content)\n",
    "                                f.close()\n",
    "                            else:   \n",
    "                                print(namess)# print not downloaded images names"
   ]
  },
  {
   "cell_type": "code",
   "execution_count": 3,
   "metadata": {
    "collapsed": true
   },
   "outputs": [],
   "source": [
    "from PIL import Image\n",
    "def get_img(name):\n",
    "    \n",
    "    img = Image.open(requests.get(\"https://uploads7.wikiart.org/images/edward-hopper/{}.jpg!Large.jpg\".format(name), stream = True).raw)\n",
    "    img.save('{}.jpg'.format(name))\n",
    "    return img"
   ]
  },
  {
   "cell_type": "code",
   "execution_count": 4,
   "metadata": {
    "collapsed": true
   },
   "outputs": [],
   "source": [
    "def get_img2(name):\n",
    "    img = Image.open(requests.get(\"https://uploads2.wikiart.org/images/edward-hopper/{}.jpg\".format(name), stream = True).raw)\n",
    "    img.save('hopper_img/{}.jpg'.format(name))\n",
    "    return img"
   ]
  },
  {
   "cell_type": "markdown",
   "metadata": {},
   "source": [
    "## Manually saved image's url"
   ]
  },
  {
   "cell_type": "code",
   "execution_count": 2,
   "metadata": {},
   "outputs": [
    {
     "data": {
      "text/plain": [
       "\"\\nManually saved image's url\\nhttps://www.wikiart.org/en/edward-hopper/not_detected_235596\\nhttps://uploads7.wikiart.org/images/edward-hopper/not_detected_235596(1).jpg!Large.jpg\\nhttps://www.wikiart.org/en/edward-hopper/not_detected_235603   \\nhttps://www.wikiart.org/en/edward-hopper/read-pavillonde-flore  \\nhttps://www.wikiart.org/en/edward-hopper/the-quaid-grands-augustins  \\nhttps://www.wikiart.org/en/edward-hopper/sailing-1911    \\nhttps://www.wikiart.org/en/edward-hopper/cove-at-ogunquit-whitney-1439-576x475   \\nhttps://www.wikiart.org/en/edward-hopper/bluff-1916-19    \\nhttps://www.wikiart.org/en/edward-hopper/new-york-restaurant-1  \\nhttps://www.wikiart.org/en/edward-hopper/not_detected_235604\\nhttps://www.wikiart.org/en/edward-hopper/funell-of-trawler\\nhttps://www.wikiart.org/en/edward-hopper/eleven-a-m \\nhttps://www.wikiart.org/en/edward-hopper/lighthouse-hill\\nhttps://www.wikiart.org/en/edward-hopper/from-williamsburg-bridge-1928\\nhttps://www.wikiart.org/en/edward-hopper/lighthouse-at-two-lights-1929(1)\\nhttps://www.wikiart.org/en/edward-hopper/barn-and-silo-vermont-1929\\nhttps://www.wikiart.org/en/edward-hopper/folly-beach-charleston-south-carolina-1929\\nhttps://www.wikiart.org/en/edward-hopper/not_detected_235608\\nhttps://www.wikiart.org/en/edward-hopper/not_detected_235606\\nhttps://www.wikiart.org/en/edward-hopper/five-a-m \\nhttps://www.wikiart.org/en/edward-hopper/white-river-at-sharon   \\nhttps://www.wikiart.org/en/edward-hopper/cape-cod-evening\\nhttps://www.wikiart.org/en/edward-hopper/not_detected_235598\\nhttps://www.wikiart.org/en/edward-hopper/not_detected_235607\\nhttps://www.wikiart.org/en/edward-hopper/girlie-show-1941\\nhttps://www.wikiart.org/en/edward-hopper/saltillo-mansion-1943\\nhttps://www.wikiart.org/en/edward-hopper/august-in-the-city\\nhttps://www.wikiart.org/en/edward-hopper/seven-a-m\\nhttps://www.wikiart.org/en/edward-hopper/not_detected_235611    \\nhttps://www.wikiart.org/en/edward-hopper/not_detected_235611\\nhttps://www.wikiart.org/en/edward-hopper/summer-in-the-city-1950\\nhttps://www.wikiart.org/en/edward-hopper/first-row-orchestra\\nhttps://www.wikiart.org/en/edward-hopper/not_detected_235610   \\nhttps://www.wikiart.org/en/edward-hopper/not_detected_235610\\nhttps://www.wikiart.org/en/edward-hopper/two-comedians\\nhttps://www.wikiart.org/en/edward-hopper/excursion-into-philosophy-1959\\nhttps://www.wikiart.org/en/edward-hopper/rocks-0\\nhttps://www.wikiart.org/en/edward-hopper/d26b76c273df42c0024e1075578466db-landscape-art-landscape-paintings\\nhttps://www.wikiart.org/en/edward-hopper/rocky-shore\\nhttps://www.wikiart.org/en/edward-hopper/rocky-shore-and-sea\\nhttps://www.wikiart.org/en/edward-hopper/rocksshore\\nhttps://www.wikiart.org/en/edward-hopper/rocks\\n\""
      ]
     },
     "execution_count": 2,
     "metadata": {},
     "output_type": "execute_result"
    }
   ],
   "source": [
    "'''\n",
    "https://www.wikiart.org/en/edward-hopper/not_detected_235596\n",
    "https://uploads7.wikiart.org/images/edward-hopper/not_detected_235596(1).jpg!Large.jpg\n",
    "https://www.wikiart.org/en/edward-hopper/not_detected_235603   \n",
    "https://www.wikiart.org/en/edward-hopper/read-pavillonde-flore  \n",
    "https://www.wikiart.org/en/edward-hopper/the-quaid-grands-augustins  \n",
    "https://www.wikiart.org/en/edward-hopper/sailing-1911    \n",
    "https://www.wikiart.org/en/edward-hopper/cove-at-ogunquit-whitney-1439-576x475   \n",
    "https://www.wikiart.org/en/edward-hopper/bluff-1916-19    \n",
    "https://www.wikiart.org/en/edward-hopper/new-york-restaurant-1  \n",
    "https://www.wikiart.org/en/edward-hopper/not_detected_235604\n",
    "https://www.wikiart.org/en/edward-hopper/funell-of-trawler\n",
    "https://www.wikiart.org/en/edward-hopper/eleven-a-m \n",
    "https://www.wikiart.org/en/edward-hopper/lighthouse-hill\n",
    "https://www.wikiart.org/en/edward-hopper/from-williamsburg-bridge-1928\n",
    "https://www.wikiart.org/en/edward-hopper/lighthouse-at-two-lights-1929(1)\n",
    "https://www.wikiart.org/en/edward-hopper/barn-and-silo-vermont-1929\n",
    "https://www.wikiart.org/en/edward-hopper/folly-beach-charleston-south-carolina-1929\n",
    "https://www.wikiart.org/en/edward-hopper/not_detected_235608\n",
    "https://www.wikiart.org/en/edward-hopper/not_detected_235606\n",
    "https://www.wikiart.org/en/edward-hopper/five-a-m \n",
    "https://www.wikiart.org/en/edward-hopper/white-river-at-sharon   \n",
    "https://www.wikiart.org/en/edward-hopper/cape-cod-evening\n",
    "https://www.wikiart.org/en/edward-hopper/not_detected_235598\n",
    "https://www.wikiart.org/en/edward-hopper/not_detected_235607\n",
    "https://www.wikiart.org/en/edward-hopper/girlie-show-1941\n",
    "https://www.wikiart.org/en/edward-hopper/saltillo-mansion-1943\n",
    "https://www.wikiart.org/en/edward-hopper/august-in-the-city\n",
    "https://www.wikiart.org/en/edward-hopper/seven-a-m\n",
    "https://www.wikiart.org/en/edward-hopper/not_detected_235611    \n",
    "https://www.wikiart.org/en/edward-hopper/not_detected_235611\n",
    "https://www.wikiart.org/en/edward-hopper/summer-in-the-city-1950\n",
    "https://www.wikiart.org/en/edward-hopper/first-row-orchestra\n",
    "https://www.wikiart.org/en/edward-hopper/not_detected_235610   \n",
    "https://www.wikiart.org/en/edward-hopper/not_detected_235610\n",
    "https://www.wikiart.org/en/edward-hopper/two-comedians\n",
    "https://www.wikiart.org/en/edward-hopper/excursion-into-philosophy-1959\n",
    "https://www.wikiart.org/en/edward-hopper/rocks-0\n",
    "https://www.wikiart.org/en/edward-hopper/d26b76c273df42c0024e1075578466db-landscape-art-landscape-paintings\n",
    "https://www.wikiart.org/en/edward-hopper/rocky-shore\n",
    "https://www.wikiart.org/en/edward-hopper/rocky-shore-and-sea\n",
    "https://www.wikiart.org/en/edward-hopper/rocksshore\n",
    "https://www.wikiart.org/en/edward-hopper/rocks\n",
    "'''"
   ]
  },
  {
   "cell_type": "code",
   "execution_count": null,
   "metadata": {
    "collapsed": true
   },
   "outputs": [],
   "source": []
  }
 ],
 "metadata": {
  "kernelspec": {
   "display_name": "Python 3",
   "language": "python",
   "name": "python3"
  },
  "language_info": {
   "codemirror_mode": {
    "name": "ipython",
    "version": 3
   },
   "file_extension": ".py",
   "mimetype": "text/x-python",
   "name": "python",
   "nbconvert_exporter": "python",
   "pygments_lexer": "ipython3",
   "version": "3.6.2"
  }
 },
 "nbformat": 4,
 "nbformat_minor": 2
}
