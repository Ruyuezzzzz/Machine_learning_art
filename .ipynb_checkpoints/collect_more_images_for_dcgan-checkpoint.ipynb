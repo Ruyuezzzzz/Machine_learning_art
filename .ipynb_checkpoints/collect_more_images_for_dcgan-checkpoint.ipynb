{
 "cells": [
  {
   "cell_type": "markdown",
   "metadata": {},
   "source": [
    "# Collecting for images for DAGAN training  from wiki art\n",
    "## Writing into a whole function "
   ]
  },
  {
   "cell_type": "code",
   "execution_count": 511,
   "metadata": {
    "collapsed": true
   },
   "outputs": [],
   "source": [
    "alist=[\"thomas-kinkade\",\"alfred-sisley\",\"childe-hassam\",\"ivan-aivazovsky\",\"eugene-boudin\",\"paul-cezanne\",\"Edgar-Degas\", \"isaac-levitan\",\"alexey-bogolyubov\",\"aleksey-savrasov\",\"xavier-martinez\",\"pierre-auguste-renoir\",\"henri-matisse\"]\n",
    "\n",
    "def get_image(artist):\n",
    "    from lxml import html\n",
    "    from bs4 import BeautifulSoup\n",
    "    import csv\n",
    "    import requests\n",
    "    page = requests.get('https://www.wikiart.org/en/{}/all-works/text-list'.format(artist))\n",
    "    page_data = BeautifulSoup(page.text,\"lxml\")\n",
    "    names = page_data.find_all(\"li\",attrs={\"class\":\"painting-list-text-row\"})\n",
    "    names_list=[]\n",
    "    name_list=[]\n",
    "    year_list=[]\n",
    "    for h in names:\n",
    "                name_list.append(h.find(\"a\").contents[0])\n",
    "                names_list.append(h.find(\"a\").contents[0].lower().replace(\" \", \"-\").replace(\",\",\"-\").replace(\"\\xa0\",\"-\").replace('(',\"\").replace(\")\",\"\").replace(\".\",\"\").replace(\"'\",\"-\").replace(\"`\",\"-\").replace(\";\",\"\").replace(\"?\",\"\").replace(\"’\",\"-\"))\n",
    "                year_list.append(h.find(\"span\").contents[0].replace(\",\",\"\").replace(\" \",\"\")) \n",
    "    for i in range(len(names_list)):\n",
    "        names_list[i]=names_list[i].replace(\"“\",\"\")\n",
    "    for i in range(len(names_list)):\n",
    "        names_list[i]=names_list[i].replace(\"”\",\"\") \n",
    "    for i in range(len(names_list)):\n",
    "        names_list[i]=names_list[i].replace(\"---\",\"-\")    \n",
    "    for i in range(len(names_list)):\n",
    "        names_list[i]=names_list[i].replace(\"--\",\"-\")\n",
    "    for i in range(len(names_list)):\n",
    "        if names_list[i][-1]==\"-\":\n",
    "             names_list[i][-1].replace(\"-\",\"\")\n",
    "    path=\"allimages/{}_img\".format(artist)\n",
    "    file=os.makedirs(path)            \n",
    "    for i in range(len(names_list)):\n",
    "        title=\"allimages/{}_img/{}.jpg\".format(artist,names_list[i])\n",
    "        url= \"https://uploads0.wikiart.org/images/{}/{}.jpg!Large.jpg\".format(artist,names_list[i])\n",
    "        im=requests.get(url,stream = True)\n",
    "        if im.status_code != 404:\n",
    "            f = open(title, 'wb')\n",
    "            f.write(im.content)\n",
    "            f.close()\n",
    "        else:\n",
    "            namess=names_list[i]+\"-\"+year_list[i]\n",
    "            url2= \"https://uploads0.wikiart.org/images/{}/{}.jpg!Large.jpg\".format(artist,namess)\n",
    "            im2=requests.get(url2,stream = True)\n",
    "            if im2.status_code != 404:\n",
    "                    f = open(title, 'wb')\n",
    "                    f.write(im2.content)\n",
    "                    f.close()\n",
    "            else:\n",
    "                    namesss=names_list[i]+\"-\"+\"(1)\"\n",
    "                    url3= \"https://uploads0.wikiart.org/images/{}/{}.jpg!Large.jpg\".format(artist, namesss)\n",
    "                    im3=requests.get(url3,stream = True)\n",
    "                    if im3.status_code != 404:\n",
    "                        f = open(title, 'wb')\n",
    "                        f.write(im3.content)\n",
    "                        f.close()\n",
    "                    else:    \n",
    "                        namessss=names_list[i]+\"-\"+year_list[i]+\"(1)\"\n",
    "                        url4= \"https://uploads0.wikiart.org/images/{}/{}.jpg!Large.jpg\".format(artist, namessss)\n",
    "                        im4=requests.get(url4,stream = True)\n",
    "                        if im4.status_code != 404:\n",
    "                            f = open(title, 'wb')\n",
    "                            f.write(im4.content)\n",
    "                            f.close()\n",
    "                        else: \n",
    "                            url5= \"https://uploads0.wikiart.org/images/{}/{}.jpg\".format(artist, names_list[i]+\"-\"+year_list[i])\n",
    "                            im5=requests.get(url5,stream = True)\n",
    "                            if im5.status_code != 404:\n",
    "                                f = open(title, 'wb')\n",
    "                                f.write(im5.content)\n",
    "                                f.close()\n",
    "                            else:  \n",
    "                                url6= \"https://uploads0.wikiart.org/images/{}/{}.jpg\".format(artist,names_list[i])\n",
    "                                im6=requests.get(url6,stream = True)\n",
    "                                if im6.status_code != 404:\n",
    "                                        f = open(title, 'wb')\n",
    "                                        f.write(im6.content)\n",
    "                                        f.close()\n",
    "                                else:        \n",
    "                                        print(\"Following image failed to download:\")\n",
    "                                        print(\"-------------------------\")\n",
    "                                        print(namess)            "
   ]
  },
  {
   "cell_type": "code",
   "execution_count": 508,
   "metadata": {
    "collapsed": true
   },
   "outputs": [],
   "source": [
    "get_image(\"thomas-kinkade\")"
   ]
  },
  {
   "cell_type": "code",
   "execution_count": 509,
   "metadata": {},
   "outputs": [
    {
     "name": "stdout",
     "output_type": "stream",
     "text": [
      "portrait-of-vice-admiral-mp-lazarev-1839\n",
      "kronstadt-fort-the-emperor-alexander-1844\n",
      "sea-view-with-chapel-1845\n",
      "meeting-of-the-brig-mercury-with-the-russian-squadron-after-the-defeat-of-two-turkish-battleships-1848\n",
      "the-ninth-wave-1850\n",
      "rocky-island-1855\n",
      "the-capture-of-sevastopol-1855\n",
      "rush-on-dnieper-near-aleshki-1857\n",
      "the-ninth-wave-study-1857\n",
      "ice-in-the-dnieper-1872\n",
      "storm-on-the-azov-sea-in-april-1886-1887\n"
     ]
    }
   ],
   "source": [
    "get_image(\"ivan-aivazovsky\")"
   ]
  },
  {
   "cell_type": "code",
   "execution_count": 510,
   "metadata": {},
   "outputs": [
    {
     "name": "stdout",
     "output_type": "stream",
     "text": [
      "view-at-saint-quay-portriaux-1872\n",
      "the-tower-malakoff-and-the-trouville-shore-1877\n",
      "the-capture-of-the-petit-rodeur--1878\n",
      "fecamp-the-inner-port-under-construction-1883\n",
      "the-cliffs-at-dieppe-and-the-petit-paris--?\n"
     ]
    }
   ],
   "source": [
    "get_image(\"eugene-boudin\")"
   ]
  },
  {
   "cell_type": "code",
   "execution_count": 512,
   "metadata": {},
   "outputs": [
    {
     "name": "stdout",
     "output_type": "stream",
     "text": [
      "Following image failed to download:\n",
      "-------------------------\n",
      "winter-midnight--1894\n",
      "Following image failed to download:\n",
      "-------------------------\n",
      "summer-porch-at-mr-and-mrs-ces-wood-s-1904\n",
      "Following image failed to download:\n",
      "-------------------------\n",
      "east-hampton-li-aka-old-mumford-house-1919\n",
      "Following image failed to download:\n",
      "-------------------------\n",
      "untitled-study-for-bathers--?\n"
     ]
    }
   ],
   "source": [
    "get_image(\"childe-hassam\")"
   ]
  },
  {
   "cell_type": "code",
   "execution_count": 513,
   "metadata": {},
   "outputs": [
    {
     "name": "stdout",
     "output_type": "stream",
     "text": [
      "Following image failed to download:\n",
      "-------------------------\n",
      "forest-edge-rising-of-the-moon/forest-edge-sun-behind-the-clouds-1896\n"
     ]
    }
   ],
   "source": [
    "get_image(\"isaac-levitan\")"
   ]
  },
  {
   "cell_type": "code",
   "execution_count": 514,
   "metadata": {},
   "outputs": [
    {
     "name": "stdout",
     "output_type": "stream",
     "text": [
      "Following image failed to download:\n",
      "-------------------------\n",
      "portrait-of-aa-radischev-1853\n",
      "Following image failed to download:\n",
      "-------------------------\n",
      "steamship-kolkhida-fighting-the-turkish-boats-at-the-st-nicholas-fort-near-poti-georgia-during-the-crimean-war-in-1853-1854\n",
      "Following image failed to download:\n",
      "-------------------------\n",
      "view-of-moscow-from-the-house-of-gi-chludov-1878\n",
      "Following image failed to download:\n",
      "-------------------------\n",
      "action-between-russian-steam-firgate-vladimir-and-turkish-steam-frigate-pervaz-in-bahri-of-november5-1853-?\n"
     ]
    }
   ],
   "source": [
    "get_image(\"alexey-bogolyubov\")"
   ]
  },
  {
   "cell_type": "code",
   "execution_count": 515,
   "metadata": {},
   "outputs": [
    {
     "name": "stdout",
     "output_type": "stream",
     "text": [
      "Following image failed to download:\n",
      "-------------------------\n",
      "view-of-pechersk-lavra-in-kiev-from-the-dnieper-1852\n",
      "Following image failed to download:\n",
      "-------------------------\n",
      "near-icon-1870\n",
      "Following image failed to download:\n",
      "-------------------------\n",
      "riverbank-of-velunia-1870\n",
      "Following image failed to download:\n",
      "-------------------------\n",
      "view-of-volga-near-yurievts-1870\n",
      "Following image failed to download:\n",
      "-------------------------\n",
      "the-rooks-have-come-back-1871\n"
     ]
    }
   ],
   "source": [
    "get_image(\"aleksey-savrasov\")"
   ]
  },
  {
   "cell_type": "code",
   "execution_count": 518,
   "metadata": {},
   "outputs": [
    {
     "name": "stdout",
     "output_type": "stream",
     "text": [
      "Following image failed to download:\n",
      "-------------------------\n",
      "footbridge-at-argenteuil-1872\n",
      "Following image failed to download:\n",
      "-------------------------\n",
      "street-in-moretporte-de-bourgogne-from-across-the-bridge-1888\n",
      "Following image failed to download:\n",
      "-------------------------\n",
      "village-of-saint-mammès-1898\n"
     ]
    }
   ],
   "source": [
    "get_image(\"alfred-sisley\")"
   ]
  },
  {
   "cell_type": "code",
   "execution_count": null,
   "metadata": {
    "collapsed": true
   },
   "outputs": [],
   "source": [
    "get_image(\"xavier-martinez\")"
   ]
  },
  {
   "cell_type": "code",
   "execution_count": null,
   "metadata": {
    "collapsed": true
   },
   "outputs": [],
   "source": []
  }
 ],
 "metadata": {
  "kernelspec": {
   "display_name": "Python 3",
   "language": "python",
   "name": "python3"
  },
  "language_info": {
   "codemirror_mode": {
    "name": "ipython",
    "version": 3
   },
   "file_extension": ".py",
   "mimetype": "text/x-python",
   "name": "python",
   "nbconvert_exporter": "python",
   "pygments_lexer": "ipython3",
   "version": "3.6.2"
  }
 },
 "nbformat": 4,
 "nbformat_minor": 2
}
