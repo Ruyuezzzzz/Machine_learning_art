{
 "cells": [
  {
   "cell_type": "markdown",
   "metadata": {},
   "source": [
    "## All market data are from Statista"
   ]
  },
  {
   "cell_type": "code",
   "execution_count": 153,
   "metadata": {
    "collapsed": true
   },
   "outputs": [],
   "source": [
    "import os\n",
    "import sys\n",
    "import matplotlib.pyplot as plt"
   ]
  },
  {
   "cell_type": "code",
   "execution_count": 154,
   "metadata": {
    "collapsed": true
   },
   "outputs": [],
   "source": [
    "import pandas as pd  "
   ]
  },
  {
   "cell_type": "code",
   "execution_count": 155,
   "metadata": {
    "collapsed": true
   },
   "outputs": [],
   "source": [
    "import plotly.plotly as py\n",
    "import plotly as pllt\n",
    "import numpy as np"
   ]
  },
  {
   "cell_type": "code",
   "execution_count": 156,
   "metadata": {},
   "outputs": [
    {
     "data": {
      "text/html": [
       "        <script type=\"text/javascript\">\n",
       "        window.PlotlyConfig = {MathJaxConfig: 'local'};\n",
       "        if (window.MathJax) {MathJax.Hub.Config({SVG: {font: \"STIX-Web\"}});}\n",
       "        if (typeof require !== 'undefined') {\n",
       "        require.undef(\"plotly\");\n",
       "        requirejs.config({\n",
       "            paths: {\n",
       "                'plotly': ['https://cdn.plot.ly/plotly-latest.min']\n",
       "            }\n",
       "        });\n",
       "        require(['plotly'], function(Plotly) {\n",
       "            window._Plotly = Plotly;\n",
       "        });\n",
       "        }\n",
       "        </script>\n",
       "        "
      ]
     },
     "metadata": {},
     "output_type": "display_data"
    }
   ],
   "source": [
    "import plotly.graph_objs as go\n",
    "from plotly.graph_objs import *\n",
    "from plotly.offline import download_plotlyjs, init_notebook_mode, plot, iplot\n",
    "py.sign_in(\"ruby1121\",\"qaZHiBpKArxb0Mt5yLcQ\")\n",
    "pllt.offline.init_notebook_mode(connected=True)"
   ]
  },
  {
   "cell_type": "code",
   "execution_count": 157,
   "metadata": {
    "collapsed": true
   },
   "outputs": [],
   "source": [
    "files=os.listdir('art_market')"
   ]
  },
  {
   "cell_type": "markdown",
   "metadata": {},
   "source": [
    "## Percentage of the worldwide auction market in 2017 by country"
   ]
  },
  {
   "cell_type": "code",
   "execution_count": 158,
   "metadata": {
    "collapsed": true
   },
   "outputs": [],
   "source": [
    "#import file\n",
    "global_share2017=pd.read_excel(\"art_market/statistic_id885749_percentage-of-the-worldwide-auction-market-in-2017-by-country.xlsx\",sheetname=\"Data\",skiprows=4).drop(\n",
    "              \"Unnamed: 0\", axis=1)#map"
   ]
  },
  {
   "cell_type": "code",
   "execution_count": 161,
   "metadata": {},
   "outputs": [
    {
     "data": {
      "text/html": [
       "<div>\n",
       "<style>\n",
       "    .dataframe thead tr:only-child th {\n",
       "        text-align: right;\n",
       "    }\n",
       "\n",
       "    .dataframe thead th {\n",
       "        text-align: left;\n",
       "    }\n",
       "\n",
       "    .dataframe tbody tr th {\n",
       "        vertical-align: top;\n",
       "    }\n",
       "</style>\n",
       "<table border=\"1\" class=\"dataframe\">\n",
       "  <thead>\n",
       "    <tr style=\"text-align: right;\">\n",
       "      <th></th>\n",
       "      <th>Unnamed: 1</th>\n",
       "      <th>Global market share</th>\n",
       "      <th>Unnamed: 3</th>\n",
       "    </tr>\n",
       "  </thead>\n",
       "  <tbody>\n",
       "    <tr>\n",
       "      <th>0</th>\n",
       "      <td>United States</td>\n",
       "      <td>35</td>\n",
       "      <td>in %</td>\n",
       "    </tr>\n",
       "    <tr>\n",
       "      <th>1</th>\n",
       "      <td>China</td>\n",
       "      <td>33</td>\n",
       "      <td>in %</td>\n",
       "    </tr>\n",
       "    <tr>\n",
       "      <th>2</th>\n",
       "      <td>United Kingdom</td>\n",
       "      <td>16</td>\n",
       "      <td>in %</td>\n",
       "    </tr>\n",
       "    <tr>\n",
       "      <th>3</th>\n",
       "      <td>France</td>\n",
       "      <td>7</td>\n",
       "      <td>in %</td>\n",
       "    </tr>\n",
       "    <tr>\n",
       "      <th>4</th>\n",
       "      <td>Germany</td>\n",
       "      <td>1</td>\n",
       "      <td>in %</td>\n",
       "    </tr>\n",
       "    <tr>\n",
       "      <th>5</th>\n",
       "      <td>Switzerland</td>\n",
       "      <td>1</td>\n",
       "      <td>in %</td>\n",
       "    </tr>\n",
       "    <tr>\n",
       "      <th>6</th>\n",
       "      <td>Italy</td>\n",
       "      <td>1</td>\n",
       "      <td>in %</td>\n",
       "    </tr>\n",
       "    <tr>\n",
       "      <th>7</th>\n",
       "      <td>Austria</td>\n",
       "      <td>1</td>\n",
       "      <td>in %</td>\n",
       "    </tr>\n",
       "    <tr>\n",
       "      <th>8</th>\n",
       "      <td>Others</td>\n",
       "      <td>5</td>\n",
       "      <td>in %</td>\n",
       "    </tr>\n",
       "  </tbody>\n",
       "</table>\n",
       "</div>"
      ],
      "text/plain": [
       "       Unnamed: 1  Global market share Unnamed: 3\n",
       "0   United States                   35       in %\n",
       "1           China                   33       in %\n",
       "2  United Kingdom                   16       in %\n",
       "3          France                    7       in %\n",
       "4         Germany                    1       in %\n",
       "5     Switzerland                    1       in %\n",
       "6           Italy                    1       in %\n",
       "7         Austria                    1       in %\n",
       "8          Others                    5       in %"
      ]
     },
     "execution_count": 161,
     "metadata": {},
     "output_type": "execute_result"
    }
   ],
   "source": [
    "global_share2017"
   ]
  },
  {
   "cell_type": "code",
   "execution_count": 160,
   "metadata": {},
   "outputs": [
    {
     "data": {
      "application/vnd.plotly.v1+json": {
       "config": {
        "linkText": "Export to plot.ly",
        "plotlyServerURL": "https://plot.ly",
        "responsive": true,
        "showLink": false
       },
       "data": [
        {
         "autocolorscale": false,
         "colorbar": {
          "tickprefix": "%",
          "title": {
           "text": "percentage"
          }
         },
         "colorscale": [
          [
           0,
           "rgb(5, 10, 172)"
          ],
          [
           0.35,
           "rgb(40, 60, 190)"
          ],
          [
           0.5,
           "rgb(70, 100, 245)"
          ],
          [
           0.6,
           "rgb(90, 120, 245)"
          ],
          [
           0.7,
           "rgb(106, 137, 247)"
          ],
          [
           1,
           "rgb(220, 220, 220)"
          ]
         ],
         "locationmode": "country names",
         "locations": [
          "United States",
          "China",
          "United Kingdom",
          "France",
          "Germany",
          "Switzerland",
          "Italy",
          "Austria",
          "Others"
         ],
         "marker": {
          "line": {
           "color": "rgb(180,180,180)",
           "width": 0.5
          }
         },
         "reversescale": true,
         "text": [
          "United States",
          "China",
          "United Kingdom",
          "France",
          "Germany",
          "Switzerland",
          "Italy",
          "Austria",
          "Others"
         ],
         "type": "choropleth",
         "uid": "9d39236b-593a-411e-be1e-d4fc578d014f",
         "z": [
          35,
          33,
          16,
          7,
          1,
          1,
          1,
          1,
          5
         ]
        }
       ],
       "layout": {
        "annotations": [
         {
          "showarrow": false,
          "text": "Source: <a href=\"https://www-statista-com.proxygw.wrlc.org/statistics/885749/auction-market-global-share-by-country/\">            Statista</a>",
          "x": 0.55,
          "xref": "paper",
          "y": 0.1,
          "yref": "paper"
         }
        ],
        "geo": {
         "projection": {
          "type": "equirectangular"
         },
         "showcoastlines": true,
         "showframe": false
        },
        "title": {
         "text": "percentage of the worldwide auction market in 2017 by country"
        }
       }
      },
      "text/html": [
       "<div>\n",
       "        \n",
       "        \n",
       "            <div id=\"d6335a9b-7a14-482b-9036-e25fda3a8ded\" class=\"plotly-graph-div\" style=\"height:525px; width:100%;\"></div>\n",
       "            <script type=\"text/javascript\">\n",
       "                require([\"plotly\"], function(Plotly) {\n",
       "                    window.PLOTLYENV=window.PLOTLYENV || {};\n",
       "                    window.PLOTLYENV.BASE_URL='https://plot.ly';\n",
       "                    \n",
       "                if (document.getElementById(\"d6335a9b-7a14-482b-9036-e25fda3a8ded\")) {\n",
       "                    Plotly.newPlot(\n",
       "                        'd6335a9b-7a14-482b-9036-e25fda3a8ded',\n",
       "                        [{\"autocolorscale\": false, \"colorbar\": {\"tickprefix\": \"%\", \"title\": {\"text\": \"percentage\"}}, \"colorscale\": [[0, \"rgb(5, 10, 172)\"], [0.35, \"rgb(40, 60, 190)\"], [0.5, \"rgb(70, 100, 245)\"], [0.6, \"rgb(90, 120, 245)\"], [0.7, \"rgb(106, 137, 247)\"], [1, \"rgb(220, 220, 220)\"]], \"locationmode\": \"country names\", \"locations\": [\"United States\", \"China\", \"United Kingdom\", \"France\", \"Germany\", \"Switzerland\", \"Italy\", \"Austria\", \"Others\"], \"marker\": {\"line\": {\"color\": \"rgb(180,180,180)\", \"width\": 0.5}}, \"reversescale\": true, \"text\": [\"United States\", \"China\", \"United Kingdom\", \"France\", \"Germany\", \"Switzerland\", \"Italy\", \"Austria\", \"Others\"], \"type\": \"choropleth\", \"uid\": \"19948836-e923-4b1c-b5ee-98d88e544f65\", \"z\": [35, 33, 16, 7, 1, 1, 1, 1, 5]}],\n",
       "                        {\"annotations\": [{\"showarrow\": false, \"text\": \"Source: <a href=\\\"https://www-statista-com.proxygw.wrlc.org/statistics/885749/auction-market-global-share-by-country/\\\">            Statista</a>\", \"x\": 0.55, \"xref\": \"paper\", \"y\": 0.1, \"yref\": \"paper\"}], \"geo\": {\"projection\": {\"type\": \"equirectangular\"}, \"showcoastlines\": true, \"showframe\": false}, \"title\": {\"text\": \"percentage of the worldwide auction market in 2017 by country\"}},\n",
       "                        {\"showLink\": false, \"linkText\": \"Export to plot.ly\", \"plotlyServerURL\": \"https://plot.ly\", \"responsive\": true}\n",
       "                    ).then(function(){\n",
       "                            \n",
       "var gd = document.getElementById('d6335a9b-7a14-482b-9036-e25fda3a8ded');\n",
       "var x = new MutationObserver(function (mutations, observer) {{\n",
       "        var display = window.getComputedStyle(gd).display;\n",
       "        if (!display || display === 'none') {{\n",
       "            console.log([gd, 'removed!']);\n",
       "            Plotly.purge(gd);\n",
       "            observer.disconnect();\n",
       "        }}\n",
       "}});\n",
       "\n",
       "// Listen for the removal of the full notebook cells\n",
       "var notebookContainer = gd.closest('#notebook-container');\n",
       "if (notebookContainer) {{\n",
       "    x.observe(notebookContainer, {childList: true});\n",
       "}}\n",
       "\n",
       "// Listen for the clearing of the current output cell\n",
       "var outputEl = gd.closest('.output');\n",
       "if (outputEl) {{\n",
       "    x.observe(outputEl, {childList: true});\n",
       "}}\n",
       "\n",
       "                        })\n",
       "                };\n",
       "                });\n",
       "            </script>\n",
       "        </div>"
      ]
     },
     "metadata": {},
     "output_type": "display_data"
    }
   ],
   "source": [
    "import plotly.graph_objs as go\n",
    "\n",
    "\n",
    "data = [go.Choropleth(\n",
    "    locationmode = 'country names',\n",
    "    locations = global_share2017['Unnamed: 1'],\n",
    "    z = global_share2017['Global market share'],\n",
    "    text = global_share2017['Unnamed: 1'],\n",
    "    colorscale = [\n",
    "        [0, \"rgb(5, 10, 172)\"],\n",
    "        [0.35, \"rgb(40, 60, 190)\"],\n",
    "        [0.5, \"rgb(70, 100, 245)\"],\n",
    "        [0.6, \"rgb(90, 120, 245)\"],\n",
    "        [0.7, \"rgb(106, 137, 247)\"],\n",
    "        [1, \"rgb(220, 220, 220)\"]\n",
    "    ],\n",
    "    autocolorscale = False,\n",
    "    reversescale = True,\n",
    "    marker = go.choropleth.Marker(\n",
    "        line = go.choropleth.marker.Line(\n",
    "            color = 'rgb(180,180,180)',\n",
    "            width = 0.5\n",
    "        )),\n",
    "    colorbar = go.choropleth.ColorBar(\n",
    "        tickprefix = '%',\n",
    "        title = 'percentage'),\n",
    ")]\n",
    "\n",
    "layout = go.Layout(\n",
    "    title = go.layout.Title(\n",
    "        text = 'percentage of the worldwide auction market in 2017 by country'\n",
    "    ),\n",
    "    geo = go.layout.Geo(\n",
    "        showframe = False,\n",
    "        showcoastlines = True,\n",
    "        projection = go.layout.geo.Projection(\n",
    "            type = 'equirectangular'\n",
    "        )\n",
    "    ),\n",
    "    annotations = [go.layout.Annotation(\n",
    "        x = 0.55,\n",
    "        y = 0.1,\n",
    "        xref = 'paper',\n",
    "        yref = 'paper',\n",
    "        text = 'Source: <a href=\"https://www-statista-com.proxygw.wrlc.org/statistics/885749/auction-market-global-share-by-country/\">\\\n",
    "            Statista</a>',\n",
    "        showarrow = False\n",
    "    )]\n",
    ")\n",
    "\n",
    "fig = go.Figure(data = data, layout = layout)\n",
    "iplot(fig, filename = 'd3-world-map')"
   ]
  },
  {
   "cell_type": "markdown",
   "metadata": {},
   "source": [
    "# Market share of fine art auction revenue worldwide in 2018 by country"
   ]
  },
  {
   "cell_type": "code",
   "execution_count": 162,
   "metadata": {
    "collapsed": true
   },
   "outputs": [],
   "source": [
    "global_share2018=pd.read_excel(\"art_market/statistic_id268921_market-share-of-fine-art-auction-revenue-worldwide-in-2018-by-country.xlsx\",sheetname=\"Data\",skiprows=4).drop(\n",
    "              \"Unnamed: 0\", axis=1)"
   ]
  },
  {
   "cell_type": "code",
   "execution_count": 163,
   "metadata": {},
   "outputs": [
    {
     "data": {
      "text/html": [
       "<div>\n",
       "<style>\n",
       "    .dataframe thead tr:only-child th {\n",
       "        text-align: right;\n",
       "    }\n",
       "\n",
       "    .dataframe thead th {\n",
       "        text-align: left;\n",
       "    }\n",
       "\n",
       "    .dataframe tbody tr th {\n",
       "        vertical-align: top;\n",
       "    }\n",
       "</style>\n",
       "<table border=\"1\" class=\"dataframe\">\n",
       "  <thead>\n",
       "    <tr style=\"text-align: right;\">\n",
       "      <th></th>\n",
       "      <th>Unnamed: 1</th>\n",
       "      <th>Share of auction revenue</th>\n",
       "      <th>Unnamed: 3</th>\n",
       "    </tr>\n",
       "  </thead>\n",
       "  <tbody>\n",
       "    <tr>\n",
       "      <th>0</th>\n",
       "      <td>United States</td>\n",
       "      <td>38.0</td>\n",
       "      <td>in %</td>\n",
       "    </tr>\n",
       "    <tr>\n",
       "      <th>1</th>\n",
       "      <td>China</td>\n",
       "      <td>29.0</td>\n",
       "      <td>in %</td>\n",
       "    </tr>\n",
       "    <tr>\n",
       "      <th>2</th>\n",
       "      <td>United Kingdom</td>\n",
       "      <td>18.0</td>\n",
       "      <td>in %</td>\n",
       "    </tr>\n",
       "    <tr>\n",
       "      <th>3</th>\n",
       "      <td>France</td>\n",
       "      <td>4.0</td>\n",
       "      <td>in %</td>\n",
       "    </tr>\n",
       "    <tr>\n",
       "      <th>4</th>\n",
       "      <td>Germany</td>\n",
       "      <td>1.7</td>\n",
       "      <td>in %</td>\n",
       "    </tr>\n",
       "    <tr>\n",
       "      <th>5</th>\n",
       "      <td>Italy</td>\n",
       "      <td>1.3</td>\n",
       "      <td>in %</td>\n",
       "    </tr>\n",
       "    <tr>\n",
       "      <th>6</th>\n",
       "      <td>Other</td>\n",
       "      <td>8.0</td>\n",
       "      <td>in %</td>\n",
       "    </tr>\n",
       "  </tbody>\n",
       "</table>\n",
       "</div>"
      ],
      "text/plain": [
       "       Unnamed: 1  Share of auction revenue Unnamed: 3\n",
       "0   United States                      38.0       in %\n",
       "1           China                      29.0       in %\n",
       "2  United Kingdom                      18.0       in %\n",
       "3          France                       4.0       in %\n",
       "4         Germany                       1.7       in %\n",
       "5           Italy                       1.3       in %\n",
       "6           Other                       8.0       in %"
      ]
     },
     "execution_count": 163,
     "metadata": {},
     "output_type": "execute_result"
    }
   ],
   "source": [
    "global_share2018"
   ]
  },
  {
   "cell_type": "code",
   "execution_count": 164,
   "metadata": {},
   "outputs": [
    {
     "data": {
      "application/vnd.plotly.v1+json": {
       "config": {
        "linkText": "Export to plot.ly",
        "plotlyServerURL": "https://plot.ly",
        "responsive": true,
        "showLink": false
       },
       "data": [
        {
         "autocolorscale": false,
         "colorbar": {
          "tickprefix": "%",
          "title": {
           "text": "percentage"
          }
         },
         "colorscale": [
          [
           0,
           "rgb(165,0,38)"
          ],
          [
           0.35,
           "rgb(254,224,144)"
          ],
          [
           0.5,
           "rgb(224,243,248)"
          ],
          [
           0.6,
           "rgb(171,217,233)"
          ],
          [
           0.7,
           "rgb(116,173,209)"
          ],
          [
           1,
           "rgb(49,54,149)"
          ]
         ],
         "locationmode": "country names",
         "locations": [
          "United States",
          "China",
          "United Kingdom",
          "France",
          "Germany",
          "Italy",
          "Other"
         ],
         "marker": {
          "line": {
           "color": "rgb(180,180,180)",
           "width": 0.5
          }
         },
         "reversescale": true,
         "text": [
          "United States",
          "China",
          "United Kingdom",
          "France",
          "Germany",
          "Italy",
          "Other"
         ],
         "type": "choropleth",
         "uid": "b348c7e2-f329-4706-9542-9fc1e6f15c69",
         "z": [
          38,
          29,
          18,
          4,
          1.7,
          1.3,
          8
         ]
        }
       ],
       "layout": {
        "annotations": [
         {
          "showarrow": false,
          "text": "Source: <a href=\"https://www-statista-com.proxygw.wrlc.org/statistics/268921/art-market-worldwide-based-on-revenue-from-art-auctions-in-2009/\">            Statista</a>",
          "x": 0.55,
          "xref": "paper",
          "y": 0.1,
          "yref": "paper"
         }
        ],
        "geo": {
         "projection": {
          "type": "equirectangular"
         },
         "showcoastlines": true,
         "showframe": false
        },
        "title": {
         "text": "Market share of fine art auction revenue worldwide in 2018 by country"
        }
       }
      },
      "text/html": [
       "<div>\n",
       "        \n",
       "        \n",
       "            <div id=\"ed85c0f2-1011-4b14-ac08-9306537d1e45\" class=\"plotly-graph-div\" style=\"height:525px; width:100%;\"></div>\n",
       "            <script type=\"text/javascript\">\n",
       "                require([\"plotly\"], function(Plotly) {\n",
       "                    window.PLOTLYENV=window.PLOTLYENV || {};\n",
       "                    window.PLOTLYENV.BASE_URL='https://plot.ly';\n",
       "                    \n",
       "                if (document.getElementById(\"ed85c0f2-1011-4b14-ac08-9306537d1e45\")) {\n",
       "                    Plotly.newPlot(\n",
       "                        'ed85c0f2-1011-4b14-ac08-9306537d1e45',\n",
       "                        [{\"autocolorscale\": false, \"colorbar\": {\"tickprefix\": \"%\", \"title\": {\"text\": \"percentage\"}}, \"colorscale\": [[0, \"rgb(165,0,38)\"], [0.35, \"rgb(254,224,144)\"], [0.5, \"rgb(224,243,248)\"], [0.6, \"rgb(171,217,233)\"], [0.7, \"rgb(116,173,209)\"], [1, \"rgb(49,54,149)\"]], \"locationmode\": \"country names\", \"locations\": [\"United States\", \"China\", \"United Kingdom\", \"France\", \"Germany\", \"Italy\", \"Other\"], \"marker\": {\"line\": {\"color\": \"rgb(180,180,180)\", \"width\": 0.5}}, \"reversescale\": true, \"text\": [\"United States\", \"China\", \"United Kingdom\", \"France\", \"Germany\", \"Italy\", \"Other\"], \"type\": \"choropleth\", \"uid\": \"a077cea0-c706-4685-aeb2-fc5fce66a631\", \"z\": [38.0, 29.0, 18.0, 4.0, 1.7, 1.3, 8.0]}],\n",
       "                        {\"annotations\": [{\"showarrow\": false, \"text\": \"Source: <a href=\\\"https://www-statista-com.proxygw.wrlc.org/statistics/268921/art-market-worldwide-based-on-revenue-from-art-auctions-in-2009/\\\">            Statista</a>\", \"x\": 0.55, \"xref\": \"paper\", \"y\": 0.1, \"yref\": \"paper\"}], \"geo\": {\"projection\": {\"type\": \"equirectangular\"}, \"showcoastlines\": true, \"showframe\": false}, \"title\": {\"text\": \"Market share of fine art auction revenue worldwide in 2018 by country\"}},\n",
       "                        {\"showLink\": false, \"linkText\": \"Export to plot.ly\", \"plotlyServerURL\": \"https://plot.ly\", \"responsive\": true}\n",
       "                    ).then(function(){\n",
       "                            \n",
       "var gd = document.getElementById('ed85c0f2-1011-4b14-ac08-9306537d1e45');\n",
       "var x = new MutationObserver(function (mutations, observer) {{\n",
       "        var display = window.getComputedStyle(gd).display;\n",
       "        if (!display || display === 'none') {{\n",
       "            console.log([gd, 'removed!']);\n",
       "            Plotly.purge(gd);\n",
       "            observer.disconnect();\n",
       "        }}\n",
       "}});\n",
       "\n",
       "// Listen for the removal of the full notebook cells\n",
       "var notebookContainer = gd.closest('#notebook-container');\n",
       "if (notebookContainer) {{\n",
       "    x.observe(notebookContainer, {childList: true});\n",
       "}}\n",
       "\n",
       "// Listen for the clearing of the current output cell\n",
       "var outputEl = gd.closest('.output');\n",
       "if (outputEl) {{\n",
       "    x.observe(outputEl, {childList: true});\n",
       "}}\n",
       "\n",
       "                        })\n",
       "                };\n",
       "                });\n",
       "            </script>\n",
       "        </div>"
      ]
     },
     "metadata": {},
     "output_type": "display_data"
    }
   ],
   "source": [
    "import plotly.graph_objs as go\n",
    "#map\n",
    "\n",
    "data = [go.Choropleth(\n",
    "    locationmode = 'country names',\n",
    "    locations = global_share2018['Unnamed: 1'],\n",
    "    z = global_share2018['Share of auction revenue'],\n",
    "    text = global_share2018['Unnamed: 1'],\n",
    "    colorscale = [\n",
    "        [0, \"rgb(165,0,38)\"],\n",
    "        [0.35, \"rgb(254,224,144)\"],    \n",
    "        [0.5, \"rgb(224,243,248)\"],\n",
    "        [0.6, \"rgb(171,217,233)\"],\n",
    "        [0.7, \"rgb(116,173,209)\"],\n",
    "        [1, \"rgb(49,54,149)\"]\n",
    "    ],\n",
    "    autocolorscale = False,\n",
    "    reversescale = True,\n",
    "    marker = go.choropleth.Marker(\n",
    "        line = go.choropleth.marker.Line(\n",
    "            color = 'rgb(180,180,180)',\n",
    "            width = 0.5\n",
    "        )),\n",
    "    colorbar = go.choropleth.ColorBar(\n",
    "        tickprefix = '%',\n",
    "        title = 'percentage'),\n",
    ")]\n",
    "\n",
    "layout = go.Layout(\n",
    "    title = go.layout.Title(\n",
    "        text = 'Market share of fine art auction revenue worldwide in 2018 by country'\n",
    "    ),\n",
    "    geo = go.layout.Geo(\n",
    "        showframe = False,\n",
    "        showcoastlines = True,\n",
    "        projection = go.layout.geo.Projection(\n",
    "            type = 'equirectangular'\n",
    "        )\n",
    "    ),\n",
    "    annotations = [go.layout.Annotation(\n",
    "        x = 0.55,\n",
    "        y = 0.1,\n",
    "        xref = 'paper',\n",
    "        yref = 'paper',\n",
    "        text = 'Source: <a href=\"https://www-statista-com.proxygw.wrlc.org/statistics/268921/art-market-worldwide-based-on-revenue-from-art-auctions-in-2009/\">\\\n",
    "            Statista</a>',\n",
    "        showarrow = False\n",
    "    )]\n",
    ")\n",
    "\n",
    "fig = go.Figure(data = data, layout = layout)\n",
    "iplot(fig, filename = 'd3-world-map2')"
   ]
  },
  {
   "cell_type": "markdown",
   "metadata": {},
   "source": [
    "## Sales at public art auctions in the us 2010-2017"
   ]
  },
  {
   "cell_type": "code",
   "execution_count": 165,
   "metadata": {
    "collapsed": true
   },
   "outputs": [],
   "source": [
    "sale_20102017=pd.read_excel(\"art_market/statistic_id885758_sales-at-public-art-auctions-in-the-us-2010-2017.xlsx\",sheetname=\"Data\",skiprows=4).drop(\n",
    "              \"Unnamed: 0\", axis=1)#line"
   ]
  },
  {
   "cell_type": "code",
   "execution_count": 166,
   "metadata": {
    "collapsed": true
   },
   "outputs": [],
   "source": [
    "def plot_line(data,label,title,xla, yla):\n",
    "    plt.figure(figsize=(20, 10))\n",
    "    index = np.arange(len(label))\n",
    "    plt.plot(index, data)\n",
    "    plt.xlabel(str(xla), fontsize=12)\n",
    "    plt.ylabel(str(yla), fontsize=12)\n",
    "    plt.xticks(index, label, fontsize=12)\n",
    "    plt.title(str(title))\n",
    "    plt.show()"
   ]
  },
  {
   "cell_type": "code",
   "execution_count": 167,
   "metadata": {
    "scrolled": true
   },
   "outputs": [
    {
     "data": {
      "image/png": "[encoded data removed]",
      "text/plain": [
       "<Figure size 1440x720 with 1 Axes>"
      ]
     },
     "metadata": {},
     "output_type": "display_data"
    }
   ],
   "source": [
    "plot_line(sale_20102017[\"Sales in billion U.S. dollars\"],sale_20102017[\"Unnamed: 1\"],\"sales at public art auctions in the us 2010-2017\",\"Years\",\"Millons\" )"
   ]
  },
  {
   "cell_type": "markdown",
   "metadata": {},
   "source": [
    "# Volume-of-transactions-in-the-art-market-worldwide-2007-2017"
   ]
  },
  {
   "cell_type": "code",
   "execution_count": 179,
   "metadata": {
    "collapsed": true
   },
   "outputs": [],
   "source": [
    "transaction_20102017=pd.read_excel(\"art_market/statistic_id885518_volume-of-transactions-in-the-art-market-worldwide-2007-2017.xlsx\",sheetname=\"Data\",skiprows=4).drop(\n",
    "              \"Unnamed: 0\", axis=1)#line"
   ]
  },
  {
   "cell_type": "code",
   "execution_count": 169,
   "metadata": {},
   "outputs": [
    {
     "data": {
      "image/png": "[encoded data removed]",
      "text/plain": [
       "<Figure size 1440x720 with 1 Axes>"
      ]
     },
     "metadata": {},
     "output_type": "display_data"
    }
   ],
   "source": [
    "plot_line(transaction_20102017[\"Transaction volume in millions\"],transaction_20102017[\"Unnamed: 1\"],\"Volume of transactions in the art market worldwide 2007-2017\",\"Years\",\"Millons\" )"
   ]
  },
  {
   "cell_type": "markdown",
   "metadata": {},
   "source": [
    "# Percentage of art auction revenue worldwide 2016-2017 by city and art type"
   ]
  },
  {
   "cell_type": "code",
   "execution_count": 170,
   "metadata": {
    "collapsed": true
   },
   "outputs": [],
   "source": [
    "auction_revenue_20162017=pd.read_excel(\"art_market/statistic_id245117_percentage-of-art-auction-revenue-worldwide-2016-2017-by-city-and-art-type.xlsx\",sheetname=\"Data\",skiprows=4).drop(\n",
    "              \"Unnamed: 0\", axis=1)#stack"
   ]
  },
  {
   "cell_type": "code",
   "execution_count": 171,
   "metadata": {
    "collapsed": true
   },
   "outputs": [],
   "source": [
    "auction_revenue_20162017t=auction_revenue_20162017.transpose()[1:]"
   ]
  },
  {
   "cell_type": "code",
   "execution_count": 172,
   "metadata": {},
   "outputs": [
    {
     "data": {
      "application/vnd.plotly.v1+json": {
       "config": {
        "linkText": "Export to plot.ly",
        "plotlyServerURL": "https://plot.ly",
        "responsive": true,
        "showLink": false
       },
       "data": [
        {
         "name": "Prior periods",
         "type": "bar",
         "uid": "f591c228-3d47-48a2-8fb4-bf7fd86b24dd",
         "x": [
          "Bejing",
          "Hong Kong",
          "London",
          "New York",
          "Other"
         ],
         "y": [
          16,
          7,
          19,
          31,
          27
         ]
        },
        {
         "name": "Contemporary art",
         "type": "bar",
         "uid": "4a676c54-edeb-4a1d-9cd7-1ec11840f601",
         "x": [
          "Bejing",
          "Hong Kong",
          "London",
          "New York",
          "Other"
         ],
         "y": [
          8,
          10,
          22,
          43,
          17
         ]
        }
       ],
       "layout": {
        "barmode": "stack",
        "title": {
         "text": "Percentage of art auction revenue worldwide 2016-2017 by city and art type"
        }
       }
      },
      "text/html": [
       "<div>\n",
       "        \n",
       "        \n",
       "            <div id=\"c7111b0a-bf57-460e-92c7-64403df8e291\" class=\"plotly-graph-div\" style=\"height:525px; width:100%;\"></div>\n",
       "            <script type=\"text/javascript\">\n",
       "                require([\"plotly\"], function(Plotly) {\n",
       "                    window.PLOTLYENV=window.PLOTLYENV || {};\n",
       "                    window.PLOTLYENV.BASE_URL='https://plot.ly';\n",
       "                    \n",
       "                if (document.getElementById(\"c7111b0a-bf57-460e-92c7-64403df8e291\")) {\n",
       "                    Plotly.newPlot(\n",
       "                        'c7111b0a-bf57-460e-92c7-64403df8e291',\n",
       "                        [{\"name\": \"Prior periods\", \"type\": \"bar\", \"uid\": \"1dc15d94-145a-429b-90f1-e75ad85697c0\", \"x\": [\"Bejing\", \"Hong Kong\", \"London\", \"New York\", \"Other\"], \"y\": [16, 7, 19, 31, 27]}, {\"name\": \"Contemporary art\", \"type\": \"bar\", \"uid\": \"c5ecff7c-5697-48a9-9b19-667f84c95ec9\", \"x\": [\"Bejing\", \"Hong Kong\", \"London\", \"New York\", \"Other\"], \"y\": [8, 10, 22, 43, 17]}],\n",
       "                        {\"barmode\": \"stack\", \"title\": {\"text\": \"Percentage of art auction revenue worldwide 2016-2017 by city and art type\"}},\n",
       "                        {\"showLink\": false, \"linkText\": \"Export to plot.ly\", \"plotlyServerURL\": \"https://plot.ly\", \"responsive\": true}\n",
       "                    ).then(function(){\n",
       "                            \n",
       "var gd = document.getElementById('c7111b0a-bf57-460e-92c7-64403df8e291');\n",
       "var x = new MutationObserver(function (mutations, observer) {{\n",
       "        var display = window.getComputedStyle(gd).display;\n",
       "        if (!display || display === 'none') {{\n",
       "            console.log([gd, 'removed!']);\n",
       "            Plotly.purge(gd);\n",
       "            observer.disconnect();\n",
       "        }}\n",
       "}});\n",
       "\n",
       "// Listen for the removal of the full notebook cells\n",
       "var notebookContainer = gd.closest('#notebook-container');\n",
       "if (notebookContainer) {{\n",
       "    x.observe(notebookContainer, {childList: true});\n",
       "}}\n",
       "\n",
       "// Listen for the clearing of the current output cell\n",
       "var outputEl = gd.closest('.output');\n",
       "if (outputEl) {{\n",
       "    x.observe(outputEl, {childList: true});\n",
       "}}\n",
       "\n",
       "                        })\n",
       "                };\n",
       "                });\n",
       "            </script>\n",
       "        </div>"
      ]
     },
     "metadata": {},
     "output_type": "display_data"
    }
   ],
   "source": [
    "data2 = [\n",
    "    go.Bar(\n",
    "        x=auction_revenue_20162017t.index, # assign x as the dataframe column 'x'\n",
    "        y=auction_revenue_20162017t[0],\n",
    "        name=\"Prior periods\",\n",
    "    ),\n",
    "    go.Bar(\n",
    "        x=auction_revenue_20162017t.index, # assign x as the dataframe column 'x'\n",
    "        y=auction_revenue_20162017t[1],\n",
    "        name=\"Contemporary art\",\n",
    "    ),\n",
    "    \n",
    "]\n",
    "\n",
    "layout = go.Layout(\n",
    "    barmode='stack',\n",
    "    title='Percentage of art auction revenue worldwide 2016-2017 by city and art type'\n",
    "    \n",
    ")\n",
    "\n",
    "fig2 = go.Figure(data=data2, layout=layout)\n",
    "\n",
    "iplot(fig2, filename='pandas-bar-chart-layout')"
   ]
  },
  {
   "cell_type": "code",
   "execution_count": 127,
   "metadata": {
    "collapsed": true
   },
   "outputs": [],
   "source": [
    "def plot_bar(data,label,title,xla, yla):\n",
    "    plt.figure(figsize=(30, 10))\n",
    "    index = np.arange(len(label))\n",
    "    plt.bar(index, data)\n",
    "    plt.xlabel(str(xla), fontsize=12)\n",
    "    plt.ylabel(str(yla), fontsize=12)\n",
    "    plt.xticks(index, label, fontsize=12)\n",
    "    plt.title(str(title))\n",
    "    plt.show()"
   ]
  },
  {
   "cell_type": "markdown",
   "metadata": {},
   "source": [
    "## number of fine art lots sold at the leading auction houses worldwide 2018"
   ]
  },
  {
   "cell_type": "code",
   "execution_count": 86,
   "metadata": {
    "collapsed": true
   },
   "outputs": [],
   "source": [
    "lots_sold_2018=pd.read_excel(\"art_market/statistic_id575192_number-of-fine-art-lots-sold-at-the-leading-auction-houses-worldwide-2018.xlsx\",sheetname=\"Data\",skiprows=4).drop(\n",
    "              \"Unnamed: 0\", axis=1)#"
   ]
  },
  {
   "cell_type": "code",
   "execution_count": 145,
   "metadata": {},
   "outputs": [
    {
     "data": {
      "text/plain": [
       "Index(['Unnamed: 1', 'Number of fine art lots sold '], dtype='object')"
      ]
     },
     "execution_count": 145,
     "metadata": {},
     "output_type": "execute_result"
    }
   ],
   "source": [
    "lots_sold_2018.columns"
   ]
  },
  {
   "cell_type": "code",
   "execution_count": 146,
   "metadata": {},
   "outputs": [
    {
     "data": {
      "image/png": "[encoded data removed]",
      "text/plain": [
       "<Figure size 2160x720 with 1 Axes>"
      ]
     },
     "metadata": {},
     "output_type": "display_data"
    }
   ],
   "source": [
    "plot_bar(lots_sold_2018[\"Number of fine art lots sold \"],lots_sold_2018[\"Unnamed: 1\"],\"number of fine art lots sold at the leading auction houses worldwide 2018\",\"Auction House\",\"Sold Numbers\")"
   ]
  },
  {
   "cell_type": "markdown",
   "metadata": {},
   "source": [
    "## Leading auction houses worldwide in 2018 by fine art revenue"
   ]
  },
  {
   "cell_type": "code",
   "execution_count": 118,
   "metadata": {
    "collapsed": true
   },
   "outputs": [],
   "source": [
    "auction_houses2018=pd.read_excel(\"art_market/statistic_id272983_leading-auction-houses-worldwide-in-2018-by-fine-art-revenue.xlsx\",sheetname=\"Data\",skiprows=4).drop(\n",
    "              \"Unnamed: 0\", axis=1)#"
   ]
  },
  {
   "cell_type": "code",
   "execution_count": 119,
   "metadata": {},
   "outputs": [
    {
     "data": {
      "text/html": [
       "<div>\n",
       "<style>\n",
       "    .dataframe thead tr:only-child th {\n",
       "        text-align: right;\n",
       "    }\n",
       "\n",
       "    .dataframe thead th {\n",
       "        text-align: left;\n",
       "    }\n",
       "\n",
       "    .dataframe tbody tr th {\n",
       "        vertical-align: top;\n",
       "    }\n",
       "</style>\n",
       "<table border=\"1\" class=\"dataframe\">\n",
       "  <thead>\n",
       "    <tr style=\"text-align: right;\">\n",
       "      <th></th>\n",
       "      <th>Unnamed: 1</th>\n",
       "      <th>Revenue in million U.S. dollars</th>\n",
       "    </tr>\n",
       "  </thead>\n",
       "  <tbody>\n",
       "    <tr>\n",
       "      <th>0</th>\n",
       "      <td>Christie`s</td>\n",
       "      <td>4998.87</td>\n",
       "    </tr>\n",
       "    <tr>\n",
       "      <th>1</th>\n",
       "      <td>Sotheby`s</td>\n",
       "      <td>3932.49</td>\n",
       "    </tr>\n",
       "    <tr>\n",
       "      <th>2</th>\n",
       "      <td>Poly Group</td>\n",
       "      <td>654.30</td>\n",
       "    </tr>\n",
       "    <tr>\n",
       "      <th>3</th>\n",
       "      <td>Phillips</td>\n",
       "      <td>653.83</td>\n",
       "    </tr>\n",
       "    <tr>\n",
       "      <th>4</th>\n",
       "      <td>China Guardian</td>\n",
       "      <td>606.23</td>\n",
       "    </tr>\n",
       "    <tr>\n",
       "      <th>5</th>\n",
       "      <td>Council</td>\n",
       "      <td>328.96</td>\n",
       "    </tr>\n",
       "    <tr>\n",
       "      <th>6</th>\n",
       "      <td>Rongbao</td>\n",
       "      <td>246.87</td>\n",
       "    </tr>\n",
       "    <tr>\n",
       "      <th>7</th>\n",
       "      <td>Bonhams</td>\n",
       "      <td>171.11</td>\n",
       "    </tr>\n",
       "    <tr>\n",
       "      <th>8</th>\n",
       "      <td>Hangu</td>\n",
       "      <td>155.65</td>\n",
       "    </tr>\n",
       "    <tr>\n",
       "      <th>9</th>\n",
       "      <td>Xiling Yinshe</td>\n",
       "      <td>132.96</td>\n",
       "    </tr>\n",
       "    <tr>\n",
       "      <th>10</th>\n",
       "      <td>Holly</td>\n",
       "      <td>118.14</td>\n",
       "    </tr>\n",
       "    <tr>\n",
       "      <th>11</th>\n",
       "      <td>Canton Treasure</td>\n",
       "      <td>103.39</td>\n",
       "    </tr>\n",
       "    <tr>\n",
       "      <th>12</th>\n",
       "      <td>Seoul Auction</td>\n",
       "      <td>90.04</td>\n",
       "    </tr>\n",
       "    <tr>\n",
       "      <th>13</th>\n",
       "      <td>Hanhai</td>\n",
       "      <td>80.18</td>\n",
       "    </tr>\n",
       "    <tr>\n",
       "      <th>14</th>\n",
       "      <td>Artcurial</td>\n",
       "      <td>79.94</td>\n",
       "    </tr>\n",
       "  </tbody>\n",
       "</table>\n",
       "</div>"
      ],
      "text/plain": [
       "         Unnamed: 1  Revenue in million U.S. dollars\n",
       "0        Christie`s                          4998.87\n",
       "1         Sotheby`s                          3932.49\n",
       "2        Poly Group                           654.30\n",
       "3          Phillips                           653.83\n",
       "4    China Guardian                           606.23\n",
       "5           Council                           328.96\n",
       "6           Rongbao                           246.87\n",
       "7           Bonhams                           171.11\n",
       "8             Hangu                           155.65\n",
       "9     Xiling Yinshe                           132.96\n",
       "10            Holly                           118.14\n",
       "11  Canton Treasure                           103.39\n",
       "12    Seoul Auction                            90.04\n",
       "13           Hanhai                            80.18\n",
       "14        Artcurial                            79.94"
      ]
     },
     "execution_count": 119,
     "metadata": {},
     "output_type": "execute_result"
    }
   ],
   "source": [
    "auction_houses2018"
   ]
  },
  {
   "cell_type": "code",
   "execution_count": 147,
   "metadata": {},
   "outputs": [
    {
     "data": {
      "image/png": "[encoded data removed]",
      "text/plain": [
       "<Figure size 2160x720 with 1 Axes>"
      ]
     },
     "metadata": {},
     "output_type": "display_data"
    }
   ],
   "source": [
    "plot_bar(auction_houses2018[\"Revenue in million U.S. dollars\"],auction_houses2018[\"Unnamed: 1\"],\"leading auction houses worldwide in 2018 by fine art revenue\",\"Auction House\",\"Millions\")"
   ]
  },
  {
   "cell_type": "markdown",
   "metadata": {},
   "source": [
    "## Impressionist and post-impressionists leading artists by auction turnover 2017"
   ]
  },
  {
   "cell_type": "code",
   "execution_count": 173,
   "metadata": {
    "collapsed": true
   },
   "outputs": [],
   "source": [
    "impressionists2017=pd.read_excel(\"art_market/statistic_id885995_impressionist-and-post-impressionists_-leading-artists-by-auction-turnover-2017.xlsx\",sheetname=\"Data\",skiprows=4).drop(\n",
    "              \"Unnamed: 0\", axis=1) #scatter"
   ]
  },
  {
   "cell_type": "code",
   "execution_count": 174,
   "metadata": {},
   "outputs": [
    {
     "data": {
      "application/vnd.plotly.v1+json": {
       "config": {
        "linkText": "Export to plot.ly",
        "plotlyServerURL": "https://plot.ly",
        "responsive": true,
        "showLink": false
       },
       "data": [
        {
         "marker": {
          "color": [
           1.9090779921382839,
           -0.3701205150283784,
           1.1509371445030812,
           1.6372548277941588,
           -0.01904158355554206,
           0.7202378626837614,
           0.026183407174412084,
           0.5322726842596955,
           -1.900693422896713,
           -0.20791029373261838,
           0.08121097543535519,
           0.5895425461225057,
           -1.4220016954849755,
           -0.6382513352777242,
           -0.1284246139082424,
           0.3622934712365559,
           -0.024000385795083155,
           0.3146150388230849,
           0.8773912825257115,
           1.3596908325890134,
           1.396512998368184,
           -0.9982973099198914,
           -1.29363365464072,
           0.5428458865230159,
           1.2454550116565724,
           2.469420089671348,
           0.07086841393210574,
           0.11475124487885706,
           -1.4962969439994935,
           0.3704167697451147,
           -0.39938465221395164,
           0.9641049190291651,
           0.5334231163985351,
           -1.7483687595620896,
           -1.1517964707174861,
           -0.22569220707040716,
           -0.055377540906779446,
           -1.2821760812115404,
           -1.144461579926358,
           -1.157515372283937,
           -1.1915719598449395,
           -1.6530838107719592,
           -0.8872731423854283,
           0.06766304121403789,
           0.060128804657576286,
           0.8479864106873519,
           -0.6202746928969749,
           -0.3578932754049841,
           -0.32326577838255477,
           -0.9523051919260243,
           -0.5787135114727936,
           -1.731753850832224,
           -0.6356779731740957,
           -0.5664138379596135,
           1.3029476300712635,
           -0.6090332553114242,
           0.036751356201907455,
           -1.3016760320634737,
           -1.5250606043653547,
           0.614601226380194,
           -0.8924586227196861,
           0.0501314977464249,
           -0.32611083084267084,
           -1.0705184318505607,
           0.6135922896298498,
           -0.9028085275689127,
           0.6259314832356053,
           0.4736155473114301,
           -0.038063843851580716,
           1.8431642046302363,
           -1.504949885749201,
           -1.0912556105280726,
           -0.7507005715792979,
           -0.20313370823144558,
           -0.6027362984739056,
           0.3953346632580082,
           -0.9659890213616649,
           1.860941073083408,
           0.3642503035629067,
           0.6871196405467844,
           -0.7406783401444096,
           1.3870267483512946,
           0.1824098366890535,
           -2.2243264762791135,
           -0.9225160787970422,
           -1.1311384292873237,
           -0.05646742073149904,
           -0.8283464896646519,
           1.231935988326851,
           0.653854132059873,
           0.03086589512283619,
           0.6402939036334383,
           -0.40761336145689436,
           -0.3678970651199207,
           0.47358888456988174,
           -0.04678669854203618,
           0.5334649650245407,
           -1.5912635481655608,
           -2.213666691723315,
           -0.1700741038955145,
           0.35204333497205853,
           0.47224094982659837,
           -1.1464298217753228,
           -0.7020231673621601,
           -1.9179628346037656,
           1.7104624738765688,
           -0.18795300063094447,
           -1.2050824677768135,
           -0.5744344617276715,
           -0.931660949234605,
           0.14380807914110333,
           0.10521124167955925,
           -2.2207535631300863,
           -0.11480372488360291,
           1.358573378855995,
           0.6715856933665159,
           0.23942525063740577,
           -0.3701732962914179,
           -0.01075690574835659,
           -0.5980313466773467,
           -0.036821480313258576,
           -1.5157185597084517,
           0.31088871412346764,
           2.4882129420988934,
           0.7877665584751667,
           0.015112085816529083,
           1.1081997865592457,
           1.2376162612077828,
           -0.275950734456089,
           0.8701029903234299,
           -0.4827147318924613,
           -0.22117489467122772,
           -1.9700145992134521,
           -0.10609436438785942,
           1.1899769139657816,
           0.000967523613520365,
           0.5806650099545535,
           1.409277330129888,
           -0.11119226374729327,
           0.42391606227984424,
           -0.8612404488787908,
           -1.198224031037681,
           -0.9171333941512108,
           -0.16470834094117895,
           -0.9074540830130712,
           -0.3680360797047352,
           -0.16411062110802763,
           -0.7001340467195659,
           0.18853017395829919,
           0.4707706841805004,
           -1.1393267109499425,
           0.40505416537167765,
           -0.4705718645132586,
           1.03955281540958,
           -2.430340157548835,
           1.1596726071258785,
           -1.6501964047521998,
           1.8286486773783166,
           0.515816525161218,
           -0.0782286313654275,
           0.00484259524402263,
           0.2849740238085989,
           -0.037165576047769426,
           0.3669788462798061,
           -0.4665037635864867,
           -0.526092444832105,
           -0.9016688265058702,
           1.4488707998466885,
           1.241957823774118,
           -1.063934809439375,
           -0.07849068006808672,
           0.6907650965928974,
           -0.14710227466276735,
           -0.4149047668694036,
           0.6021604497933984,
           -0.9070190673229831,
           0.3863299455021687,
           -0.3733384757242842,
           0.951189516396772,
           -2.432627408089646,
           0.015613423165108737,
           -0.07176588503513244,
           1.4277107640657751,
           1.0977145224118483,
           -0.19308637096616946,
           0.23112497430497844,
           1.4573518547969002,
           0.040301177849115424,
           0.9740528055347122,
           0.5632340081935692,
           -0.22336699783541203,
           0.6211421076351595,
           0.8433330461552389,
           1.8176579766854393,
           -0.38888749437480974,
           -0.03101342109213176,
           0.8997143457391531,
           0.2211423021356762,
           1.433768226938331,
           -0.7998184395940875,
           0.5756154221448198,
           -0.8745671555217881,
           -0.4842989689280877,
           -1.9178584162150296,
           0.2940553838180644,
           -3.2019579255933177,
           -0.19767768659759796,
           -0.9468936966383802,
           0.172500199827548,
           -0.4504365787171867,
           -1.0515880131693884,
           1.2530412358886216,
           1.8517760654539384,
           -0.5051167714819977,
           -2.624707090726138,
           0.872941523352601,
           -0.9623349139165842,
           1.594874816028686,
           -0.01418184403719978,
           -1.858161088389485,
           -0.42636173937489763,
           0.19049529128735448,
           -0.06243587538500993,
           1.789957326872233,
           0.9835442827932307,
           0.06397858414526451,
           -0.5601938005026729,
           -1.237023625027122,
           0.03030086432272945,
           -0.1680096046527134,
           0.09682568097151438,
           -0.056769657732817815,
           -0.9529605943376399,
           0.6346680081008823,
           0.5658855075668978,
           -0.5709266668219198,
           -0.5566698348155075,
           -0.7461683521168093,
           -0.6957467112370169,
           0.22702299952387042,
           -0.12487035763592756,
           -1.9249838998022615,
           -0.4570916831016107,
           -0.5143425717619992,
           0.7738830069709013,
           -0.45364290566303395,
           0.2008714613134157,
           0.4535497263985755,
           -0.7274500445742432,
           -0.3331931535587104,
           1.2638661445221533,
           0.060411271509869365,
           -1.2862618968024513,
           -0.6130855622315617,
           0.05764899632807098,
           0.32790644438356675,
           -0.5199519638810929,
           -0.32539683887033144,
           0.4304782902535119,
           1.156291139642001,
           -0.13472149736376485,
           1.5498344209491766,
           -0.1216576724277842,
           -0.42021995210497304,
           1.1824109006310237,
           1.2309440039739918,
           0.7498423224932635,
           0.19076308903974296,
           -1.8385707412315848,
           -0.32717239377509927,
           -1.6301381991288835,
           -0.5068897607413019,
           1.73266828916079,
           1.1029298260323268,
           -0.606068117083238,
           0.0802804394844357,
           1.4584118986479704,
           0.47588470391518456,
           1.229573784842018,
           -0.5884182915496801,
           0.9153397033991741,
           0.03978856930177944,
           1.1447164929204285,
           -1.4048858033201286,
           -1.8281201287961988,
           0.28877328065055,
           0.9715983785159679,
           -1.1133454993889866,
           0.27158413446721136,
           0.038181209008227454,
           -1.0512779971257888,
           0.6411483207665438,
           1.583685080748126,
           -2.117333058458338,
           -0.5748308070279979,
           -1.203021319873274,
           1.0995222495754802,
           0.093541111414082,
           -1.1664243364248668,
           1.3605913757755865,
           -0.4141483280138372,
           -0.13950943565371807,
           1.9611692851051743,
           -0.5951367596575672,
           -0.1701587907751731,
           0.4728592145379339,
           0.9212110977486411,
           -0.9048082733796194,
           -0.5643509196546989,
           -0.46145143207752864,
           -1.0203713716410308,
           0.999642328940007,
           -0.5617360819094697,
           -0.11253154541180166,
           -0.1666136881023602,
           -0.8138051595922002,
           1.3086132560053232,
           -1.1044023060717076,
           -0.8297633693855863,
           0.34017533535248157,
           -1.0900923441769816,
           1.4171659871465037,
           -0.4432176799222916,
           -1.3582002480918505,
           -1.0517915510586964,
           0.9630525332205517,
           -0.4278887680265592,
           -2.683322463230123,
           -0.47180173184473523,
           -0.7132596713877466,
           0.7635501537463778,
           -0.43997655702024563,
           -2.2678533985081737,
           1.4262892352009868,
           -0.1595688403433117,
           0.015659639535210938,
           -0.8393661117564059,
           -0.5533993799488108,
           0.3287171473921037,
           0.6896313217667781,
           1.61194523662551,
           0.4864236068645109,
           1.1634258392344485,
           -1.8230747706995922,
           0.41718531206409065,
           -2.305706143085084,
           -0.139477050035943,
           -0.9514923089851645,
           0.9296649037810298,
           0.6452973990299188,
           0.37920276847065487,
           0.710944105245161,
           -0.952309011779661,
           0.2987894311644932,
           0.9596802112336754,
           -1.181077200500044,
           2.456208172372826,
           -1.0745623372430415,
           0.3257535815810883,
           -0.14551380767272057,
           1.975904538343871,
           0.9443448469411323,
           1.7646884573007542,
           0.6101447335395717,
           1.5583372140517577,
           0.7770840449300047,
           1.630204388110104,
           -0.21767990943743523,
           -0.531472049090765,
           -0.1581693374348698,
           -0.18906752331724444,
           0.7545966552303981,
           0.12781835856070622,
           -0.7936899392689633,
           0.8797582493038653,
           -1.684299906117964,
           -1.5333104528561528,
           0.25447901488628394,
           -0.33298368334332,
           0.3422372226465692,
           0.14684663051649854,
           -2.042235492207296,
           0.25364123289935575,
           -0.5302239004719116,
           -1.7590753450283676,
           0.26683764235174834,
           -0.09991653912962306,
           1.6893674686109748,
           -1.3797221506332888,
           -0.9995738649431438,
           -0.052286949515874766,
           2.7450741305099564,
           0.4781115388022844,
           -0.30379484063955864,
           0.3032238757307624,
           1.277704884234692,
           -1.6521387062135633,
           0.3469270708778626,
           0.062007080810726325,
           -0.591861250401605,
           -0.8929911029322607,
           1.9992926297347091,
           1.1860545849458781,
           2.0418313857363963,
           -0.1114450571094086,
           1.225647082361019,
           0.5767709842572788,
           0.6468428170002118,
           -1.772836569595646,
           -1.0906530056988328,
           -0.29352068578706736,
           -2.065543307192893,
           0.9924006746690308,
           0.6738746085672872,
           1.9319953612667242,
           -0.056125350140783174,
           1.851148268903611,
           0.13947089914826485,
           -2.270606943187008,
           1.7272685446408735,
           -0.7019745827974546,
           0.381309697711781,
           -1.156188194358675,
           0.5719510050173761,
           -0.9002218262125945,
           0.313674250184009,
           -0.16632663228634814,
           -0.6934436888008173,
           -0.32039539873195066,
           1.0410041349657724,
           0.9084794279069709,
           1.8616807442315881,
           -0.6194768551116044,
           -0.6123025921919012,
           -0.8282116099928413,
           -0.6018060678334378,
           1.3745292714062418,
           -0.7486588079204376,
           0.39426614332779747,
           -0.624055138147046,
           -0.5106197192453346,
           -0.027378765296241,
           0.2787495531243799,
           0.10312633891119871,
           -1.3008744385596875,
           -0.26656735920967717,
           -0.7727281697042149,
           0.7231508209415453,
           -0.13895126773064456,
           -0.06697621107282582,
           0.7075089722887561,
           0.8044210771017333,
           -0.05155943845440387,
           2.025640233012173,
           0.061365346276931756,
           1.3742796171831309,
           -1.4770203233548516,
           0.8250443360698104,
           -1.686676374535081,
           0.7116710818605642,
           0.5615706223422033,
           0.15110547515198644,
           -0.6690064120415339,
           -0.8641980689007226,
           0.32154802489200435,
           0.9379348288208836,
           1.0824752853475534,
           1.2507324014827579,
           0.4169516241990571,
           0.21244740444382387,
           -0.2366416615610244,
           -0.1337267982645243,
           0.6665350646001285,
           -1.4762032235670894,
           -1.1178550830554403,
           0.031917076686244744,
           0.4235559532227501,
           -0.5652333094177233,
           0.5430138315303569,
           0.3069687004384902,
           -1.0444986931056763,
           -0.6644088921059919,
           -1.001043346145489,
           -1.2229926187923787,
           -0.6697345477861237,
           0.037677053819994,
           -1.4008965182802389,
           0.15742858486602823,
           0.09644253457081903,
           0.4908701644725395,
           -1.5157262824329043,
           0.9551244713785881,
           0.4193510697270327,
           -0.30677243594772646,
           0.3919964063942313,
           0.6648299051834198,
           1.0146059683537132,
           0.7982569884571278,
           0.07824110060762318,
           1.5476948935331527
          ],
          "colorscale": "Viridis",
          "showscale": true,
          "size": 16
         },
         "mode": "markers",
         "type": "scatter",
         "uid": "144c8db8-87ca-4d56-b640-30bf500ec56d",
         "x": [
          "Qi Baishi (Twelve Landscape Screens)",
          "Vincent van Gogh (Laboureur dans un Champ)",
          "Gustav Klimt (Bauerngarten)",
          "Huang Binhong (Yellow Mountain)",
          "Wassily Kandinsky (Bild mit Weissen Linien)",
          "Vincent van Gogh (Le Moissonneur)",
          "Wu Changshuo (Twelve Screens of Florae)",
          "Wassily Kandinsky (Murnau - Landschaft mit Grünem Haus)",
          "Paul Gauguin (Te Fare (La Maison))",
          "Claude Monet (Matinée sur la Seine)",
          "Claude Monet (Les Glaçons, Bennecourt)",
          "Claude Monet (Les Arceaux de Roses, Giverny)",
          "Edouard Vuillard (Misia et Vallotton à Villeneuve)",
          "Henri Matisse (Les Régates de Nice)",
          "Claude Monet (Le Bassin aux Nymphéas)",
          "Qi Baishi (Eagle and Rock)",
          "Wassily Kandinsky (Improvisation mit Pferden)",
          "Claude Monet (La Route de Vétheuil, Effet de Neige)",
          "Claude Monet (Saule Pleureur)",
          "Frederic Remington (Coming Through the Rye)"
         ],
         "y": [
          141,
          81.3,
          59,
          51.1,
          41.8,
          31.1,
          31,
          26.6,
          25.2,
          23.4,
          23.4,
          19.4,
          17.8,
          16.6,
          16,
          14.6,
          12.7,
          11.4,
          11.4,
          11.2
         ]
        }
       ],
       "layout": {
        "autosize": false,
        "font": {
         "family": "Courier New, monospace",
         "size": 8
        },
        "height": 500,
        "title": {
         "text": "Impressionist and post impressionists leading artists by auction turnover 2017"
        },
        "width": 800
       }
      },
      "text/html": [
       "<div>\n",
       "        \n",
       "        \n",
       "            <div id=\"5583fd25-b472-4c30-a929-c876d1448f29\" class=\"plotly-graph-div\" style=\"height:500px; width:800px;\"></div>\n",
       "            <script type=\"text/javascript\">\n",
       "                require([\"plotly\"], function(Plotly) {\n",
       "                    window.PLOTLYENV=window.PLOTLYENV || {};\n",
       "                    window.PLOTLYENV.BASE_URL='https://plot.ly';\n",
       "                    \n",
       "                if (document.getElementById(\"5583fd25-b472-4c30-a929-c876d1448f29\")) {\n",
       "                    Plotly.newPlot(\n",
       "                        '5583fd25-b472-4c30-a929-c876d1448f29',\n",
       "                        [{\"marker\": {\"color\": [1.9090779921382839, -0.3701205150283784, 1.1509371445030812, 1.6372548277941588, -0.01904158355554206, 0.7202378626837614, 0.026183407174412084, 0.5322726842596955, -1.900693422896713, -0.20791029373261838, 0.08121097543535519, 0.5895425461225057, -1.4220016954849755, -0.6382513352777242, -0.1284246139082424, 0.3622934712365559, -0.024000385795083155, 0.3146150388230849, 0.8773912825257115, 1.3596908325890134, 1.396512998368184, -0.9982973099198914, -1.29363365464072, 0.5428458865230159, 1.2454550116565724, 2.469420089671348, 0.07086841393210574, 0.11475124487885706, -1.4962969439994935, 0.3704167697451147, -0.39938465221395164, 0.9641049190291651, 0.5334231163985351, -1.7483687595620896, -1.1517964707174861, -0.22569220707040716, -0.055377540906779446, -1.2821760812115404, -1.144461579926358, -1.157515372283937, -1.1915719598449395, -1.6530838107719592, -0.8872731423854283, 0.06766304121403789, 0.060128804657576286, 0.8479864106873519, -0.6202746928969749, -0.3578932754049841, -0.32326577838255477, -0.9523051919260243, -0.5787135114727936, -1.731753850832224, -0.6356779731740957, -0.5664138379596135, 1.3029476300712635, -0.6090332553114242, 0.036751356201907455, -1.3016760320634737, -1.5250606043653547, 0.614601226380194, -0.8924586227196861, 0.0501314977464249, -0.32611083084267084, -1.0705184318505607, 0.6135922896298498, -0.9028085275689127, 0.6259314832356053, 0.4736155473114301, -0.038063843851580716, 1.8431642046302363, -1.504949885749201, -1.0912556105280726, -0.7507005715792979, -0.20313370823144558, -0.6027362984739056, 0.3953346632580082, -0.9659890213616649, 1.860941073083408, 0.3642503035629067, 0.6871196405467844, -0.7406783401444096, 1.3870267483512946, 0.1824098366890535, -2.2243264762791135, -0.9225160787970422, -1.1311384292873237, -0.05646742073149904, -0.8283464896646519, 1.231935988326851, 0.653854132059873, 0.03086589512283619, 0.6402939036334383, -0.40761336145689436, -0.3678970651199207, 0.47358888456988174, -0.04678669854203618, 0.5334649650245407, -1.5912635481655608, -2.213666691723315, -0.1700741038955145, 0.35204333497205853, 0.47224094982659837, -1.1464298217753228, -0.7020231673621601, -1.9179628346037656, 1.7104624738765688, -0.18795300063094447, -1.2050824677768135, -0.5744344617276715, -0.931660949234605, 0.14380807914110333, 0.10521124167955925, -2.2207535631300863, -0.11480372488360291, 1.358573378855995, 0.6715856933665159, 0.23942525063740577, -0.3701732962914179, -0.01075690574835659, -0.5980313466773467, -0.036821480313258576, -1.5157185597084517, 0.31088871412346764, 2.4882129420988934, 0.7877665584751667, 0.015112085816529083, 1.1081997865592457, 1.2376162612077828, -0.275950734456089, 0.8701029903234299, -0.4827147318924613, -0.22117489467122772, -1.9700145992134521, -0.10609436438785942, 1.1899769139657816, 0.000967523613520365, 0.5806650099545535, 1.409277330129888, -0.11119226374729327, 0.42391606227984424, -0.8612404488787908, -1.198224031037681, -0.9171333941512108, -0.16470834094117895, -0.9074540830130712, -0.3680360797047352, -0.16411062110802763, -0.7001340467195659, 0.18853017395829919, 0.4707706841805004, -1.1393267109499425, 0.40505416537167765, -0.4705718645132586, 1.03955281540958, -2.430340157548835, 1.1596726071258785, -1.6501964047521998, 1.8286486773783166, 0.515816525161218, -0.0782286313654275, 0.00484259524402263, 0.2849740238085989, -0.037165576047769426, 0.3669788462798061, -0.4665037635864867, -0.526092444832105, -0.9016688265058702, 1.4488707998466885, 1.241957823774118, -1.063934809439375, -0.07849068006808672, 0.6907650965928974, -0.14710227466276735, -0.4149047668694036, 0.6021604497933984, -0.9070190673229831, 0.3863299455021687, -0.3733384757242842, 0.951189516396772, -2.432627408089646, 0.015613423165108737, -0.07176588503513244, 1.4277107640657751, 1.0977145224118483, -0.19308637096616946, 0.23112497430497844, 1.4573518547969002, 0.040301177849115424, 0.9740528055347122, 0.5632340081935692, -0.22336699783541203, 0.6211421076351595, 0.8433330461552389, 1.8176579766854393, -0.38888749437480974, -0.03101342109213176, 0.8997143457391531, 0.2211423021356762, 1.433768226938331, -0.7998184395940875, 0.5756154221448198, -0.8745671555217881, -0.4842989689280877, -1.9178584162150296, 0.2940553838180644, -3.2019579255933177, -0.19767768659759796, -0.9468936966383802, 0.172500199827548, -0.4504365787171867, -1.0515880131693884, 1.2530412358886216, 1.8517760654539384, -0.5051167714819977, -2.624707090726138, 0.872941523352601, -0.9623349139165842, 1.594874816028686, -0.01418184403719978, -1.858161088389485, -0.42636173937489763, 0.19049529128735448, -0.06243587538500993, 1.789957326872233, 0.9835442827932307, 0.06397858414526451, -0.5601938005026729, -1.237023625027122, 0.03030086432272945, -0.1680096046527134, 0.09682568097151438, -0.056769657732817815, -0.9529605943376399, 0.6346680081008823, 0.5658855075668978, -0.5709266668219198, -0.5566698348155075, -0.7461683521168093, -0.6957467112370169, 0.22702299952387042, -0.12487035763592756, -1.9249838998022615, -0.4570916831016107, -0.5143425717619992, 0.7738830069709013, -0.45364290566303395, 0.2008714613134157, 0.4535497263985755, -0.7274500445742432, -0.3331931535587104, 1.2638661445221533, 0.060411271509869365, -1.2862618968024513, -0.6130855622315617, 0.05764899632807098, 0.32790644438356675, -0.5199519638810929, -0.32539683887033144, 0.4304782902535119, 1.156291139642001, -0.13472149736376485, 1.5498344209491766, -0.1216576724277842, -0.42021995210497304, 1.1824109006310237, 1.2309440039739918, 0.7498423224932635, 0.19076308903974296, -1.8385707412315848, -0.32717239377509927, -1.6301381991288835, -0.5068897607413019, 1.73266828916079, 1.1029298260323268, -0.606068117083238, 0.0802804394844357, 1.4584118986479704, 0.47588470391518456, 1.229573784842018, -0.5884182915496801, 0.9153397033991741, 0.03978856930177944, 1.1447164929204285, -1.4048858033201286, -1.8281201287961988, 0.28877328065055, 0.9715983785159679, -1.1133454993889866, 0.27158413446721136, 0.038181209008227454, -1.0512779971257888, 0.6411483207665438, 1.583685080748126, -2.117333058458338, -0.5748308070279979, -1.203021319873274, 1.0995222495754802, 0.093541111414082, -1.1664243364248668, 1.3605913757755865, -0.4141483280138372, -0.13950943565371807, 1.9611692851051743, -0.5951367596575672, -0.1701587907751731, 0.4728592145379339, 0.9212110977486411, -0.9048082733796194, -0.5643509196546989, -0.46145143207752864, -1.0203713716410308, 0.999642328940007, -0.5617360819094697, -0.11253154541180166, -0.1666136881023602, -0.8138051595922002, 1.3086132560053232, -1.1044023060717076, -0.8297633693855863, 0.34017533535248157, -1.0900923441769816, 1.4171659871465037, -0.4432176799222916, -1.3582002480918505, -1.0517915510586964, 0.9630525332205517, -0.4278887680265592, -2.683322463230123, -0.47180173184473523, -0.7132596713877466, 0.7635501537463778, -0.43997655702024563, -2.2678533985081737, 1.4262892352009868, -0.1595688403433117, 0.015659639535210938, -0.8393661117564059, -0.5533993799488108, 0.3287171473921037, 0.6896313217667781, 1.61194523662551, 0.4864236068645109, 1.1634258392344485, -1.8230747706995922, 0.41718531206409065, -2.305706143085084, -0.139477050035943, -0.9514923089851645, 0.9296649037810298, 0.6452973990299188, 0.37920276847065487, 0.710944105245161, -0.952309011779661, 0.2987894311644932, 0.9596802112336754, -1.181077200500044, 2.456208172372826, -1.0745623372430415, 0.3257535815810883, -0.14551380767272057, 1.975904538343871, 0.9443448469411323, 1.7646884573007542, 0.6101447335395717, 1.5583372140517577, 0.7770840449300047, 1.630204388110104, -0.21767990943743523, -0.531472049090765, -0.1581693374348698, -0.18906752331724444, 0.7545966552303981, 0.12781835856070622, -0.7936899392689633, 0.8797582493038653, -1.684299906117964, -1.5333104528561528, 0.25447901488628394, -0.33298368334332, 0.3422372226465692, 0.14684663051649854, -2.042235492207296, 0.25364123289935575, -0.5302239004719116, -1.7590753450283676, 0.26683764235174834, -0.09991653912962306, 1.6893674686109748, -1.3797221506332888, -0.9995738649431438, -0.052286949515874766, 2.7450741305099564, 0.4781115388022844, -0.30379484063955864, 0.3032238757307624, 1.277704884234692, -1.6521387062135633, 0.3469270708778626, 0.062007080810726325, -0.591861250401605, -0.8929911029322607, 1.9992926297347091, 1.1860545849458781, 2.0418313857363963, -0.1114450571094086, 1.225647082361019, 0.5767709842572788, 0.6468428170002118, -1.772836569595646, -1.0906530056988328, -0.29352068578706736, -2.065543307192893, 0.9924006746690308, 0.6738746085672872, 1.9319953612667242, -0.056125350140783174, 1.851148268903611, 0.13947089914826485, -2.270606943187008, 1.7272685446408735, -0.7019745827974546, 0.381309697711781, -1.156188194358675, 0.5719510050173761, -0.9002218262125945, 0.313674250184009, -0.16632663228634814, -0.6934436888008173, -0.32039539873195066, 1.0410041349657724, 0.9084794279069709, 1.8616807442315881, -0.6194768551116044, -0.6123025921919012, -0.8282116099928413, -0.6018060678334378, 1.3745292714062418, -0.7486588079204376, 0.39426614332779747, -0.624055138147046, -0.5106197192453346, -0.027378765296241, 0.2787495531243799, 0.10312633891119871, -1.3008744385596875, -0.26656735920967717, -0.7727281697042149, 0.7231508209415453, -0.13895126773064456, -0.06697621107282582, 0.7075089722887561, 0.8044210771017333, -0.05155943845440387, 2.025640233012173, 0.061365346276931756, 1.3742796171831309, -1.4770203233548516, 0.8250443360698104, -1.686676374535081, 0.7116710818605642, 0.5615706223422033, 0.15110547515198644, -0.6690064120415339, -0.8641980689007226, 0.32154802489200435, 0.9379348288208836, 1.0824752853475534, 1.2507324014827579, 0.4169516241990571, 0.21244740444382387, -0.2366416615610244, -0.1337267982645243, 0.6665350646001285, -1.4762032235670894, -1.1178550830554403, 0.031917076686244744, 0.4235559532227501, -0.5652333094177233, 0.5430138315303569, 0.3069687004384902, -1.0444986931056763, -0.6644088921059919, -1.001043346145489, -1.2229926187923787, -0.6697345477861237, 0.037677053819994, -1.4008965182802389, 0.15742858486602823, 0.09644253457081903, 0.4908701644725395, -1.5157262824329043, 0.9551244713785881, 0.4193510697270327, -0.30677243594772646, 0.3919964063942313, 0.6648299051834198, 1.0146059683537132, 0.7982569884571278, 0.07824110060762318, 1.5476948935331527], \"colorscale\": \"Viridis\", \"showscale\": true, \"size\": 16}, \"mode\": \"markers\", \"type\": \"scatter\", \"uid\": \"e11ea1fa-3be3-4272-8b71-afed5277b31a\", \"x\": [\"Qi Baishi (Twelve Landscape Screens)\", \"Vincent van Gogh (Laboureur dans un Champ)\", \"Gustav Klimt (Bauerngarten)\", \"Huang Binhong (Yellow Mountain)\", \"Wassily Kandinsky (Bild mit Weissen Linien)\", \"Vincent van Gogh (Le Moissonneur)\", \"Wu Changshuo (Twelve Screens of Florae)\", \"Wassily Kandinsky (Murnau - Landschaft mit Gr\\u00fcnem Haus)\", \"Paul Gauguin (Te Fare (La Maison))\", \"Claude Monet (Matin\\u00e9e sur la Seine)\", \"Claude Monet (Les Gla\\u00e7ons, Bennecourt)\", \"Claude Monet (Les Arceaux de Roses, Giverny)\", \"Edouard Vuillard (Misia et Vallotton \\u00e0 Villeneuve)\", \"Henri Matisse (Les R\\u00e9gates de Nice)\", \"Claude Monet (Le Bassin aux Nymph\\u00e9as)\", \"Qi Baishi (Eagle and Rock)\", \"Wassily Kandinsky (Improvisation mit Pferden)\", \"Claude Monet (La Route de V\\u00e9theuil, Effet de Neige)\", \"Claude Monet (Saule Pleureur)\", \"Frederic Remington (Coming Through the Rye)\"], \"y\": [141.0, 81.3, 59.0, 51.1, 41.8, 31.1, 31.0, 26.6, 25.2, 23.4, 23.4, 19.4, 17.8, 16.6, 16.0, 14.6, 12.7, 11.4, 11.4, 11.2]}],\n",
       "                        {\"autosize\": false, \"font\": {\"family\": \"Courier New, monospace\", \"size\": 8}, \"height\": 500, \"title\": {\"text\": \"Impressionist and post impressionists leading artists by auction turnover 2017\"}, \"width\": 800},\n",
       "                        {\"showLink\": false, \"linkText\": \"Export to plot.ly\", \"plotlyServerURL\": \"https://plot.ly\", \"responsive\": true}\n",
       "                    ).then(function(){\n",
       "                            \n",
       "var gd = document.getElementById('5583fd25-b472-4c30-a929-c876d1448f29');\n",
       "var x = new MutationObserver(function (mutations, observer) {{\n",
       "        var display = window.getComputedStyle(gd).display;\n",
       "        if (!display || display === 'none') {{\n",
       "            console.log([gd, 'removed!']);\n",
       "            Plotly.purge(gd);\n",
       "            observer.disconnect();\n",
       "        }}\n",
       "}});\n",
       "\n",
       "// Listen for the removal of the full notebook cells\n",
       "var notebookContainer = gd.closest('#notebook-container');\n",
       "if (notebookContainer) {{\n",
       "    x.observe(notebookContainer, {childList: true});\n",
       "}}\n",
       "\n",
       "// Listen for the clearing of the current output cell\n",
       "var outputEl = gd.closest('.output');\n",
       "if (outputEl) {{\n",
       "    x.observe(outputEl, {childList: true});\n",
       "}}\n",
       "\n",
       "                        })\n",
       "                };\n",
       "                });\n",
       "            </script>\n",
       "        </div>"
      ]
     },
     "metadata": {},
     "output_type": "display_data"
    }
   ],
   "source": [
    "trace = go.Scatter(\n",
    "\n",
    "    x = impressionists2017[\"Unnamed: 1\"],\n",
    "    y = impressionists2017[\"Auction sales in million U.S. dollars\"],\n",
    "    mode = 'markers',\n",
    "    marker=dict(\n",
    "        size=16,\n",
    "        color = np.random.randn(500), #set color equal to a variable\n",
    "        colorscale='Viridis',\n",
    "        showscale=True\n",
    "    )\n",
    ")\n",
    "\n",
    "data3 = [trace]\n",
    "layout3 = go.Layout(\n",
    "    autosize=False,\n",
    "    width=800,\n",
    "    height=500,\n",
    "    title=\"Impressionist and post impressionists leading artists by auction turnover 2017\",\n",
    "    font=dict(family='Courier New, monospace', size=8))\n",
    "fig4=  go.Figure(data=data3, layout=layout3)\n",
    "\n",
    "iplot(fig4, filename='scatter-plot-with-colorscale')"
   ]
  },
  {
   "cell_type": "markdown",
   "metadata": {},
   "source": [
    "## Reasons for collecting art among art collectors in the us as of february 2018"
   ]
  },
  {
   "cell_type": "code",
   "execution_count": 176,
   "metadata": {
    "collapsed": true
   },
   "outputs": [],
   "source": [
    "collect_reason=pd.read_excel(\"art_market/statistic_id893815_reasons-for-collecting-art-among-art-collectors-in-the-us-as-of-february-2018.xlsx\",sheetname=\"Data\",skiprows=4)"
   ]
  },
  {
   "cell_type": "code",
   "execution_count": 177,
   "metadata": {
    "collapsed": true
   },
   "outputs": [],
   "source": [
    "def plot_barh(data,label,title,xla, yla):\n",
    "    plt.figure(figsize=(20, 20))\n",
    "    index = np.arange(len(label))\n",
    "    plt.barh(index, data)\n",
    "    plt.xlabel(str(xla), fontsize=18)\n",
    "    plt.ylabel(str(yla), fontsize=18)\n",
    "    plt.yticks(index, label, fontsize=18)\n",
    "    plt.title(str(title),fontsize=18)\n",
    "    plt.show()"
   ]
  },
  {
   "cell_type": "code",
   "execution_count": 178,
   "metadata": {},
   "outputs": [
    {
     "data": {
      "image/png": "[encoded data removed]",
      "text/plain": [
       "<Figure size 1440x1440 with 1 Axes>"
      ]
     },
     "metadata": {},
     "output_type": "display_data"
    }
   ],
   "source": [
    "plot_barh(collect_reason['Share of respondents'],collect_reason[\"Unnamed: 1\"],\"Reasons for collecting art among art collectors in the U.S. as of February 2018\", \"reasons\", \"Share_of_respondents\")"
   ]
  },
  {
   "cell_type": "code",
   "execution_count": null,
   "metadata": {
    "collapsed": true
   },
   "outputs": [],
   "source": []
  }
 ],
 "metadata": {
  "kernelspec": {
   "display_name": "Python 3",
   "language": "python",
   "name": "python3"
  },
  "language_info": {
   "codemirror_mode": {
    "name": "ipython",
    "version": 3
   },
   "file_extension": ".py",
   "mimetype": "text/x-python",
   "name": "python",
   "nbconvert_exporter": "python",
   "pygments_lexer": "ipython3",
   "version": "3.6.2"
  }
 },
 "nbformat": 4,
 "nbformat_minor": 2
}
